{
 "cells": [
  {
   "cell_type": "markdown",
   "id": "1a05d744-840c-44c0-bfb6-8701f8d66586",
   "metadata": {},
   "source": [
    "# Analysing Sales by a Pet Product Retailer\n",
    "\n",
    "PetMind is a retailer of products for pets based in the United States. They sell products that are a mix of luxury items and everyday items. Luxury items include toys; everyday items include food.\n",
    "\n",
    "The company wants to increase sales by focusing on products that are bought repeatedly, and has contacted me to analyse how repeat purchases impact sales.\n",
    "\n",
    "The idea and data for this project are from [DataCamp](https://projects.datacamp.com/projects/2194).\n",
    "\n",
    "## Data\n",
    "\n",
    "The data is available in the table `pet_supplies`. The dataset contains the sales records in the stores last year. \n",
    "\n",
    "| Column Name | Criteria                                                |\n",
    "|-------------|:---------------------------------------------------------|\n",
    "|product_id | Nominal. The unique identifier of the product. </br>Missing values are not possible due to the database structure.|\n",
    "| category | Nominal. The category of the product, one of 6 values (Housing, Food, Toys, Equipment, Medicine, Accessory). </br>Missing values should be replaced with “Unknown”. |\n",
    "| animal | Nominal. The type of animal the product is for. One of Dog, Cat, Fish, Bird. </br>Missing values should be replaced with “Unknown”. |\n",
    "| size | Ordinal. The size of animal the product is for. Small, Medium, Large. </br>Missing values should be replaced with “Unknown”.|\n",
    "| price | Continuous. The price the product is sold at. Can be any positive value, round to 2 decimal places. </br>Missing values should be replaced with the overall median price. |\n",
    "| sales | Continuous. The value of all sales of the product in the last year. This can be any positive value, rounded to 2 decimal places. </br>Missing values should be replaced with the overall median sales. |\n",
    "| rating | Discrete. Customer rating of the product from 1 to 10. </br>Missing values should be replaced with 0. |\n",
    "| repeat_purchase | Nominal. Whether customers repeatedly buy the product (1) or not (0). </br>Missing values should be removed. |"
   ]
  },
  {
   "cell_type": "markdown",
   "id": "6274f37b-375c-4825-a520-23197085693d",
   "metadata": {},
   "source": [
    "## Exploratory Data Analysis and Data Wrangling\n",
    "Let's first take a look at the table."
   ]
  },
  {
   "cell_type": "code",
   "execution_count": 1,
   "id": "746ac605-4194-409c-b65c-3d373f953aed",
   "metadata": {
    "customType": "sql",
    "dataFrameVariableName": "df",
    "executionCancelledAt": null,
    "executionTime": 986,
    "lastExecutedAt": 1730817350728,
    "lastExecutedByKernel": "d635353f-286c-44b6-80f5-a56b288209b2",
    "lastScheduledRunId": null,
    "lastSuccessfullyExecutedCode": "SELECT *\nFROM pet_supplies\nLIMIT 5;",
    "outputsMetadata": {
     "0": {
      "height": 239,
      "type": "dataFrame"
     }
    },
    "sqlCellMode": "dataFrame",
    "sqlSource": {
     "integrationId": "af2d5208-8759-4760-8fc5-287cfbb3507b",
     "integrationType": "postgresql",
     "type": "integration"
    }
   },
   "outputs": [
    {
     "@datacamp/metadata": {
      "executedQuery": "SELECT *\nFROM pet_supplies\nLIMIT 5;",
      "executedQueryParameters": []
     },
     "data": {
      "application/com.datacamp.data-table.v2+json": {
       "table": {
        "data": {
         "animal": [
          "Bird",
          "Bird",
          "Dog",
          "Cat",
          "Cat"
         ],
         "category": [
          "Food",
          "Housing",
          "Food",
          "Medicine",
          "Housing"
         ],
         "index": [
          0,
          1,
          2,
          3,
          4
         ],
         "price": [
          51.1,
          35.98,
          31.23,
          24.95,
          26.18
         ],
         "product_id": [
          1,
          2,
          3,
          4,
          5
         ],
         "rating": [
          7,
          6,
          5,
          6,
          7
         ],
         "repeat_purchase": [
          1,
          0,
          1,
          1,
          1
         ],
         "sales": [
          1860.62,
          963.6,
          898.3,
          982.15,
          832.63
         ],
         "size": [
          "large",
          "MEDIUM",
          "medium",
          "small",
          "Small"
         ]
        },
        "schema": {
         "fields": [
          {
           "name": "index",
           "type": "integer"
          },
          {
           "name": "product_id",
           "type": "integer"
          },
          {
           "name": "category",
           "type": "string"
          },
          {
           "name": "animal",
           "type": "string"
          },
          {
           "name": "size",
           "type": "string"
          },
          {
           "name": "price",
           "type": "number"
          },
          {
           "name": "sales",
           "type": "number"
          },
          {
           "name": "rating",
           "type": "integer"
          },
          {
           "name": "repeat_purchase",
           "type": "integer"
          }
         ],
         "pandas_version": "1.4.0",
         "primaryKey": [
          "index"
         ]
        }
       },
       "total_rows": 5,
       "truncation_type": null
      },
      "text/html": [
       "<div>\n",
       "<style scoped>\n",
       "    .dataframe tbody tr th:only-of-type {\n",
       "        vertical-align: middle;\n",
       "    }\n",
       "\n",
       "    .dataframe tbody tr th {\n",
       "        vertical-align: top;\n",
       "    }\n",
       "\n",
       "    .dataframe thead th {\n",
       "        text-align: right;\n",
       "    }\n",
       "</style>\n",
       "<table border=\"1\" class=\"dataframe\">\n",
       "  <thead>\n",
       "    <tr style=\"text-align: right;\">\n",
       "      <th></th>\n",
       "      <th>product_id</th>\n",
       "      <th>category</th>\n",
       "      <th>animal</th>\n",
       "      <th>size</th>\n",
       "      <th>price</th>\n",
       "      <th>sales</th>\n",
       "      <th>rating</th>\n",
       "      <th>repeat_purchase</th>\n",
       "    </tr>\n",
       "  </thead>\n",
       "  <tbody>\n",
       "    <tr>\n",
       "      <th>0</th>\n",
       "      <td>1</td>\n",
       "      <td>Food</td>\n",
       "      <td>Bird</td>\n",
       "      <td>large</td>\n",
       "      <td>51.10</td>\n",
       "      <td>1860.62</td>\n",
       "      <td>7</td>\n",
       "      <td>1</td>\n",
       "    </tr>\n",
       "    <tr>\n",
       "      <th>1</th>\n",
       "      <td>2</td>\n",
       "      <td>Housing</td>\n",
       "      <td>Bird</td>\n",
       "      <td>MEDIUM</td>\n",
       "      <td>35.98</td>\n",
       "      <td>963.60</td>\n",
       "      <td>6</td>\n",
       "      <td>0</td>\n",
       "    </tr>\n",
       "    <tr>\n",
       "      <th>2</th>\n",
       "      <td>3</td>\n",
       "      <td>Food</td>\n",
       "      <td>Dog</td>\n",
       "      <td>medium</td>\n",
       "      <td>31.23</td>\n",
       "      <td>898.30</td>\n",
       "      <td>5</td>\n",
       "      <td>1</td>\n",
       "    </tr>\n",
       "    <tr>\n",
       "      <th>3</th>\n",
       "      <td>4</td>\n",
       "      <td>Medicine</td>\n",
       "      <td>Cat</td>\n",
       "      <td>small</td>\n",
       "      <td>24.95</td>\n",
       "      <td>982.15</td>\n",
       "      <td>6</td>\n",
       "      <td>1</td>\n",
       "    </tr>\n",
       "    <tr>\n",
       "      <th>4</th>\n",
       "      <td>5</td>\n",
       "      <td>Housing</td>\n",
       "      <td>Cat</td>\n",
       "      <td>Small</td>\n",
       "      <td>26.18</td>\n",
       "      <td>832.63</td>\n",
       "      <td>7</td>\n",
       "      <td>1</td>\n",
       "    </tr>\n",
       "  </tbody>\n",
       "</table>\n",
       "</div>"
      ],
      "text/plain": [
       "   product_id  category animal    size  price    sales  rating  repeat_purchase\n",
       "0           1      Food   Bird   large  51.10  1860.62       7                1\n",
       "1           2   Housing   Bird  MEDIUM  35.98   963.60       6                0\n",
       "2           3      Food    Dog  medium  31.23   898.30       5                1\n",
       "3           4  Medicine    Cat   small  24.95   982.15       6                1\n",
       "4           5   Housing    Cat   Small  26.18   832.63       7                1"
      ]
     },
     "execution_count": 1,
     "metadata": {},
     "output_type": "execute_result"
    }
   ],
   "source": [
    "SELECT *\n",
    "FROM pet_supplies\n",
    "LIMIT 5;"
   ]
  },
  {
   "cell_type": "markdown",
   "id": "89fbb672-e1dd-493b-a2ae-40f002449109",
   "metadata": {},
   "source": [
    "Let's see the number of rows the table has."
   ]
  },
  {
   "cell_type": "code",
   "execution_count": 3,
   "id": "9491d032-19ac-4603-a63c-e1959717f959",
   "metadata": {
    "customType": "sql",
    "dataFrameVariableName": "df2",
    "executionCancelledAt": null,
    "executionTime": 1294,
    "lastExecutedAt": 1730817654076,
    "lastExecutedByKernel": "d635353f-286c-44b6-80f5-a56b288209b2",
    "lastScheduledRunId": null,
    "lastSuccessfullyExecutedCode": "SELECT COUNT(*)\nFROM pet_supplies;",
    "outputsMetadata": {
     "0": {
      "height": 110,
      "type": "dataFrame"
     }
    },
    "sqlCellMode": "dataFrame",
    "sqlSource": {
     "integrationId": "af2d5208-8759-4760-8fc5-287cfbb3507b",
     "integrationType": "postgresql",
     "type": "integration"
    }
   },
   "outputs": [
    {
     "@datacamp/metadata": {
      "executedQuery": "SELECT COUNT(*)\nFROM pet_supplies;",
      "executedQueryParameters": []
     },
     "data": {
      "application/com.datacamp.data-table.v2+json": {
       "table": {
        "data": {
         "count": [
          1500
         ],
         "index": [
          0
         ]
        },
        "schema": {
         "fields": [
          {
           "name": "index",
           "type": "integer"
          },
          {
           "name": "count",
           "type": "integer"
          }
         ],
         "pandas_version": "1.4.0",
         "primaryKey": [
          "index"
         ]
        }
       },
       "total_rows": 1,
       "truncation_type": null
      },
      "text/html": [
       "<div>\n",
       "<style scoped>\n",
       "    .dataframe tbody tr th:only-of-type {\n",
       "        vertical-align: middle;\n",
       "    }\n",
       "\n",
       "    .dataframe tbody tr th {\n",
       "        vertical-align: top;\n",
       "    }\n",
       "\n",
       "    .dataframe thead th {\n",
       "        text-align: right;\n",
       "    }\n",
       "</style>\n",
       "<table border=\"1\" class=\"dataframe\">\n",
       "  <thead>\n",
       "    <tr style=\"text-align: right;\">\n",
       "      <th></th>\n",
       "      <th>count</th>\n",
       "    </tr>\n",
       "  </thead>\n",
       "  <tbody>\n",
       "    <tr>\n",
       "      <th>0</th>\n",
       "      <td>1500</td>\n",
       "    </tr>\n",
       "  </tbody>\n",
       "</table>\n",
       "</div>"
      ],
      "text/plain": [
       "   count\n",
       "0   1500"
      ]
     },
     "execution_count": 3,
     "metadata": {},
     "output_type": "execute_result"
    }
   ],
   "source": [
    "SELECT COUNT(*)\n",
    "FROM pet_supplies;"
   ]
  },
  {
   "cell_type": "markdown",
   "id": "a8a952ed-951b-4e6a-990e-63829816938a",
   "metadata": {},
   "source": [
    "There are 1500 entries."
   ]
  },
  {
   "cell_type": "markdown",
   "id": "22a9c45c-68b3-4eed-addf-f06a20607c08",
   "metadata": {},
   "source": [
    "### The `category` column"
   ]
  },
  {
   "cell_type": "markdown",
   "id": "62ed4e74-3584-43fe-8d16-841c9b9283d3",
   "metadata": {},
   "source": [
    "_**Criteria:** Nominal. The category of the product, one of 6 values (Housing, Food, Toys, Equipment, Medicine, Accessory). Missing values should be replaced with “Unknown”._\n",
    "\n",
    "Let's count the number of non-null categories."
   ]
  },
  {
   "cell_type": "code",
   "execution_count": 4,
   "id": "369125da-200b-426d-802b-3c89baaadeea",
   "metadata": {
    "customType": "sql",
    "dataFrameVariableName": "df3",
    "executionCancelledAt": null,
    "executionTime": 950,
    "lastExecutedAt": 1730817856335,
    "lastExecutedByKernel": "d635353f-286c-44b6-80f5-a56b288209b2",
    "lastScheduledRunId": null,
    "lastSuccessfullyExecutedCode": "SELECT COUNT(category)\nFROM pet_supplies;",
    "outputsMetadata": {
     "0": {
      "height": 110,
      "type": "dataFrame"
     }
    },
    "sqlCellMode": "dataFrame",
    "sqlSource": {
     "integrationId": "af2d5208-8759-4760-8fc5-287cfbb3507b",
     "integrationType": "postgresql",
     "type": "integration"
    }
   },
   "outputs": [
    {
     "@datacamp/metadata": {
      "executedQuery": "SELECT COUNT(category)\nFROM pet_supplies;",
      "executedQueryParameters": []
     },
     "data": {
      "application/com.datacamp.data-table.v2+json": {
       "table": {
        "data": {
         "count": [
          1500
         ],
         "index": [
          0
         ]
        },
        "schema": {
         "fields": [
          {
           "name": "index",
           "type": "integer"
          },
          {
           "name": "count",
           "type": "integer"
          }
         ],
         "pandas_version": "1.4.0",
         "primaryKey": [
          "index"
         ]
        }
       },
       "total_rows": 1,
       "truncation_type": null
      },
      "text/html": [
       "<div>\n",
       "<style scoped>\n",
       "    .dataframe tbody tr th:only-of-type {\n",
       "        vertical-align: middle;\n",
       "    }\n",
       "\n",
       "    .dataframe tbody tr th {\n",
       "        vertical-align: top;\n",
       "    }\n",
       "\n",
       "    .dataframe thead th {\n",
       "        text-align: right;\n",
       "    }\n",
       "</style>\n",
       "<table border=\"1\" class=\"dataframe\">\n",
       "  <thead>\n",
       "    <tr style=\"text-align: right;\">\n",
       "      <th></th>\n",
       "      <th>count</th>\n",
       "    </tr>\n",
       "  </thead>\n",
       "  <tbody>\n",
       "    <tr>\n",
       "      <th>0</th>\n",
       "      <td>1500</td>\n",
       "    </tr>\n",
       "  </tbody>\n",
       "</table>\n",
       "</div>"
      ],
      "text/plain": [
       "   count\n",
       "0   1500"
      ]
     },
     "execution_count": 4,
     "metadata": {},
     "output_type": "execute_result"
    }
   ],
   "source": [
    "SELECT COUNT(category)\n",
    "FROM pet_supplies;"
   ]
  },
  {
   "cell_type": "markdown",
   "id": "2612c69f-2ec2-4069-b06f-f4132b298f10",
   "metadata": {},
   "source": [
    "There are 1500 entries, same as for the entire table, meaning that the `category` column has no `null` values."
   ]
  },
  {
   "cell_type": "markdown",
   "id": "340c7e95-59e8-4d84-a972-291da8e956be",
   "metadata": {},
   "source": [
    "Let's see the unique values of the `category` column."
   ]
  },
  {
   "cell_type": "code",
   "execution_count": 2,
   "id": "0d74f757-45d6-4d1f-b81f-0ca3f838f419",
   "metadata": {
    "customType": "sql",
    "dataFrameVariableName": "df1",
    "executionCancelledAt": null,
    "executionTime": 1147,
    "lastExecutedAt": 1730817577589,
    "lastExecutedByKernel": "d635353f-286c-44b6-80f5-a56b288209b2",
    "lastScheduledRunId": null,
    "lastSuccessfullyExecutedCode": "SELECT DISTINCT category\nFROM pet_supplies;",
    "outputsMetadata": {
     "0": {
      "height": 278,
      "type": "dataFrame"
     }
    },
    "sqlCellMode": "dataFrame",
    "sqlSource": {
     "integrationId": "af2d5208-8759-4760-8fc5-287cfbb3507b",
     "integrationType": "postgresql",
     "type": "integration"
    }
   },
   "outputs": [
    {
     "@datacamp/metadata": {
      "executedQuery": "SELECT DISTINCT category\nFROM pet_supplies;",
      "executedQueryParameters": []
     },
     "data": {
      "application/com.datacamp.data-table.v2+json": {
       "table": {
        "data": {
         "category": [
          "Medicine",
          "Food",
          "Equipment",
          "-",
          "Accessory",
          "Housing",
          "Toys"
         ],
         "index": [
          0,
          1,
          2,
          3,
          4,
          5,
          6
         ]
        },
        "schema": {
         "fields": [
          {
           "name": "index",
           "type": "integer"
          },
          {
           "name": "category",
           "type": "string"
          }
         ],
         "pandas_version": "1.4.0",
         "primaryKey": [
          "index"
         ]
        }
       },
       "total_rows": 7,
       "truncation_type": null
      },
      "text/html": [
       "<div>\n",
       "<style scoped>\n",
       "    .dataframe tbody tr th:only-of-type {\n",
       "        vertical-align: middle;\n",
       "    }\n",
       "\n",
       "    .dataframe tbody tr th {\n",
       "        vertical-align: top;\n",
       "    }\n",
       "\n",
       "    .dataframe thead th {\n",
       "        text-align: right;\n",
       "    }\n",
       "</style>\n",
       "<table border=\"1\" class=\"dataframe\">\n",
       "  <thead>\n",
       "    <tr style=\"text-align: right;\">\n",
       "      <th></th>\n",
       "      <th>category</th>\n",
       "    </tr>\n",
       "  </thead>\n",
       "  <tbody>\n",
       "    <tr>\n",
       "      <th>0</th>\n",
       "      <td>Medicine</td>\n",
       "    </tr>\n",
       "    <tr>\n",
       "      <th>1</th>\n",
       "      <td>Food</td>\n",
       "    </tr>\n",
       "    <tr>\n",
       "      <th>2</th>\n",
       "      <td>Equipment</td>\n",
       "    </tr>\n",
       "    <tr>\n",
       "      <th>3</th>\n",
       "      <td>-</td>\n",
       "    </tr>\n",
       "    <tr>\n",
       "      <th>4</th>\n",
       "      <td>Accessory</td>\n",
       "    </tr>\n",
       "    <tr>\n",
       "      <th>5</th>\n",
       "      <td>Housing</td>\n",
       "    </tr>\n",
       "    <tr>\n",
       "      <th>6</th>\n",
       "      <td>Toys</td>\n",
       "    </tr>\n",
       "  </tbody>\n",
       "</table>\n",
       "</div>"
      ],
      "text/plain": [
       "    category\n",
       "0   Medicine\n",
       "1       Food\n",
       "2  Equipment\n",
       "3          -\n",
       "4  Accessory\n",
       "5    Housing\n",
       "6       Toys"
      ]
     },
     "execution_count": 2,
     "metadata": {},
     "output_type": "execute_result"
    }
   ],
   "source": [
    "SELECT DISTINCT category\n",
    "FROM pet_supplies;"
   ]
  },
  {
   "cell_type": "markdown",
   "id": "049b77c2-3060-41cb-9c60-4802466d7393",
   "metadata": {},
   "source": [
    "We'll replace the missing value, i.e. \"-\", with \"Unknown\". This is the query we'll use for that:"
   ]
  },
  {
   "cell_type": "code",
   "execution_count": 5,
   "id": "b6b70664-8b17-4380-9087-2358619b68c1",
   "metadata": {
    "customType": "sql",
    "dataFrameVariableName": "df4",
    "executionCancelledAt": null,
    "executionTime": 889,
    "lastExecutedAt": 1730818717370,
    "lastExecutedByKernel": "d635353f-286c-44b6-80f5-a56b288209b2",
    "lastScheduledRunId": null,
    "lastSuccessfullyExecutedCode": "SELECT product_id,\n\tCASE\n\t\tWHEN category IN ('Housing', 'Food', 'Toys', 'Equipment', 'Medicine', 'Accessory')\n\t\t\tTHEN category\n\t\tELSE 'Unknown'\n\tEND AS category\nFROM pet_supplies\nLIMIT 5;",
    "outputsMetadata": {
     "0": {
      "height": 222,
      "type": "dataFrame"
     }
    },
    "sqlCellMode": "dataFrame",
    "sqlSource": {
     "integrationId": "af2d5208-8759-4760-8fc5-287cfbb3507b",
     "integrationType": "postgresql",
     "type": "integration"
    }
   },
   "outputs": [
    {
     "@datacamp/metadata": {
      "executedQuery": "SELECT product_id,\n\tCASE\n\t\tWHEN category IN ('Housing', 'Food', 'Toys', 'Equipment', 'Medicine', 'Accessory')\n\t\t\tTHEN category\n\t\tELSE 'Unknown'\n\tEND AS category\nFROM pet_supplies\nLIMIT 5;",
      "executedQueryParameters": []
     },
     "data": {
      "application/com.datacamp.data-table.v2+json": {
       "table": {
        "data": {
         "category": [
          "Food",
          "Housing",
          "Food",
          "Medicine",
          "Housing"
         ],
         "index": [
          0,
          1,
          2,
          3,
          4
         ],
         "product_id": [
          1,
          2,
          3,
          4,
          5
         ]
        },
        "schema": {
         "fields": [
          {
           "name": "index",
           "type": "integer"
          },
          {
           "name": "product_id",
           "type": "integer"
          },
          {
           "name": "category",
           "type": "string"
          }
         ],
         "pandas_version": "1.4.0",
         "primaryKey": [
          "index"
         ]
        }
       },
       "total_rows": 5,
       "truncation_type": null
      },
      "text/html": [
       "<div>\n",
       "<style scoped>\n",
       "    .dataframe tbody tr th:only-of-type {\n",
       "        vertical-align: middle;\n",
       "    }\n",
       "\n",
       "    .dataframe tbody tr th {\n",
       "        vertical-align: top;\n",
       "    }\n",
       "\n",
       "    .dataframe thead th {\n",
       "        text-align: right;\n",
       "    }\n",
       "</style>\n",
       "<table border=\"1\" class=\"dataframe\">\n",
       "  <thead>\n",
       "    <tr style=\"text-align: right;\">\n",
       "      <th></th>\n",
       "      <th>product_id</th>\n",
       "      <th>category</th>\n",
       "    </tr>\n",
       "  </thead>\n",
       "  <tbody>\n",
       "    <tr>\n",
       "      <th>0</th>\n",
       "      <td>1</td>\n",
       "      <td>Food</td>\n",
       "    </tr>\n",
       "    <tr>\n",
       "      <th>1</th>\n",
       "      <td>2</td>\n",
       "      <td>Housing</td>\n",
       "    </tr>\n",
       "    <tr>\n",
       "      <th>2</th>\n",
       "      <td>3</td>\n",
       "      <td>Food</td>\n",
       "    </tr>\n",
       "    <tr>\n",
       "      <th>3</th>\n",
       "      <td>4</td>\n",
       "      <td>Medicine</td>\n",
       "    </tr>\n",
       "    <tr>\n",
       "      <th>4</th>\n",
       "      <td>5</td>\n",
       "      <td>Housing</td>\n",
       "    </tr>\n",
       "  </tbody>\n",
       "</table>\n",
       "</div>"
      ],
      "text/plain": [
       "   product_id  category\n",
       "0           1      Food\n",
       "1           2   Housing\n",
       "2           3      Food\n",
       "3           4  Medicine\n",
       "4           5   Housing"
      ]
     },
     "execution_count": 5,
     "metadata": {},
     "output_type": "execute_result"
    }
   ],
   "source": [
    "SELECT product_id,\n",
    "\tCASE\n",
    "\t\tWHEN category IN ('Housing', 'Food', 'Toys', 'Equipment', 'Medicine', 'Accessory')\n",
    "\t\t\tTHEN category\n",
    "\t\tELSE 'Unknown'\n",
    "\tEND AS category\n",
    "FROM pet_supplies\n",
    "LIMIT 5;"
   ]
  },
  {
   "cell_type": "markdown",
   "id": "7972aacc-b781-47f9-83c5-f9667ad24058",
   "metadata": {},
   "source": [
    "### The `animal` column\n",
    "_**Criteria:** Nominal. The type of animal the product is for. One of Dog, Cat, Fish, Bird. Missing values should be replaced with “Unknown”._\n",
    "\n",
    "Let's check if this column has any `null` values."
   ]
  },
  {
   "cell_type": "code",
   "execution_count": 6,
   "id": "74ff6556-d07c-4fcd-8d39-93e5bf62c36c",
   "metadata": {
    "customType": "sql",
    "dataFrameVariableName": "df5",
    "executionCancelledAt": null,
    "executionTime": 813,
    "lastExecutedAt": 1730819141542,
    "lastExecutedByKernel": "d635353f-286c-44b6-80f5-a56b288209b2",
    "lastScheduledRunId": null,
    "lastSuccessfullyExecutedCode": "SELECT COUNT(animal)\nFROM pet_supplies;",
    "outputsMetadata": {
     "0": {
      "height": 110,
      "type": "dataFrame"
     }
    },
    "sqlCellMode": "dataFrame",
    "sqlSource": {
     "integrationId": "af2d5208-8759-4760-8fc5-287cfbb3507b",
     "integrationType": "postgresql",
     "type": "integration"
    }
   },
   "outputs": [
    {
     "@datacamp/metadata": {
      "executedQuery": "SELECT COUNT(animal)\nFROM pet_supplies;",
      "executedQueryParameters": []
     },
     "data": {
      "application/com.datacamp.data-table.v2+json": {
       "table": {
        "data": {
         "count": [
          1500
         ],
         "index": [
          0
         ]
        },
        "schema": {
         "fields": [
          {
           "name": "index",
           "type": "integer"
          },
          {
           "name": "count",
           "type": "integer"
          }
         ],
         "pandas_version": "1.4.0",
         "primaryKey": [
          "index"
         ]
        }
       },
       "total_rows": 1,
       "truncation_type": null
      },
      "text/html": [
       "<div>\n",
       "<style scoped>\n",
       "    .dataframe tbody tr th:only-of-type {\n",
       "        vertical-align: middle;\n",
       "    }\n",
       "\n",
       "    .dataframe tbody tr th {\n",
       "        vertical-align: top;\n",
       "    }\n",
       "\n",
       "    .dataframe thead th {\n",
       "        text-align: right;\n",
       "    }\n",
       "</style>\n",
       "<table border=\"1\" class=\"dataframe\">\n",
       "  <thead>\n",
       "    <tr style=\"text-align: right;\">\n",
       "      <th></th>\n",
       "      <th>count</th>\n",
       "    </tr>\n",
       "  </thead>\n",
       "  <tbody>\n",
       "    <tr>\n",
       "      <th>0</th>\n",
       "      <td>1500</td>\n",
       "    </tr>\n",
       "  </tbody>\n",
       "</table>\n",
       "</div>"
      ],
      "text/plain": [
       "   count\n",
       "0   1500"
      ]
     },
     "execution_count": 6,
     "metadata": {},
     "output_type": "execute_result"
    }
   ],
   "source": [
    "SELECT COUNT(animal)\n",
    "FROM pet_supplies;"
   ]
  },
  {
   "cell_type": "markdown",
   "id": "a5762ee5-8b96-4531-8324-8f9b251062be",
   "metadata": {},
   "source": [
    "There are no `null` values. Let's see the unique `animal` values."
   ]
  },
  {
   "cell_type": "code",
   "execution_count": 7,
   "id": "8398e81a-b4c3-4a37-a224-669377db19dc",
   "metadata": {
    "customType": "sql",
    "dataFrameVariableName": "df6",
    "executionCancelledAt": null,
    "executionTime": 934,
    "lastExecutedAt": 1730819210559,
    "lastExecutedByKernel": "d635353f-286c-44b6-80f5-a56b288209b2",
    "lastScheduledRunId": null,
    "lastSuccessfullyExecutedCode": "SELECT DISTINCT animal\nFROM pet_supplies;",
    "outputsMetadata": {
     "0": {
      "height": 194,
      "type": "dataFrame"
     }
    },
    "sqlCellMode": "dataFrame",
    "sqlSource": {
     "integrationId": "af2d5208-8759-4760-8fc5-287cfbb3507b",
     "integrationType": "postgresql",
     "type": "integration"
    }
   },
   "outputs": [
    {
     "@datacamp/metadata": {
      "executedQuery": "SELECT DISTINCT animal\nFROM pet_supplies;",
      "executedQueryParameters": []
     },
     "data": {
      "application/com.datacamp.data-table.v2+json": {
       "table": {
        "data": {
         "animal": [
          "Fish",
          "Cat",
          "Bird",
          "Dog"
         ],
         "index": [
          0,
          1,
          2,
          3
         ]
        },
        "schema": {
         "fields": [
          {
           "name": "index",
           "type": "integer"
          },
          {
           "name": "animal",
           "type": "string"
          }
         ],
         "pandas_version": "1.4.0",
         "primaryKey": [
          "index"
         ]
        }
       },
       "total_rows": 4,
       "truncation_type": null
      },
      "text/html": [
       "<div>\n",
       "<style scoped>\n",
       "    .dataframe tbody tr th:only-of-type {\n",
       "        vertical-align: middle;\n",
       "    }\n",
       "\n",
       "    .dataframe tbody tr th {\n",
       "        vertical-align: top;\n",
       "    }\n",
       "\n",
       "    .dataframe thead th {\n",
       "        text-align: right;\n",
       "    }\n",
       "</style>\n",
       "<table border=\"1\" class=\"dataframe\">\n",
       "  <thead>\n",
       "    <tr style=\"text-align: right;\">\n",
       "      <th></th>\n",
       "      <th>animal</th>\n",
       "    </tr>\n",
       "  </thead>\n",
       "  <tbody>\n",
       "    <tr>\n",
       "      <th>0</th>\n",
       "      <td>Fish</td>\n",
       "    </tr>\n",
       "    <tr>\n",
       "      <th>1</th>\n",
       "      <td>Cat</td>\n",
       "    </tr>\n",
       "    <tr>\n",
       "      <th>2</th>\n",
       "      <td>Bird</td>\n",
       "    </tr>\n",
       "    <tr>\n",
       "      <th>3</th>\n",
       "      <td>Dog</td>\n",
       "    </tr>\n",
       "  </tbody>\n",
       "</table>\n",
       "</div>"
      ],
      "text/plain": [
       "  animal\n",
       "0   Fish\n",
       "1    Cat\n",
       "2   Bird\n",
       "3    Dog"
      ]
     },
     "execution_count": 7,
     "metadata": {},
     "output_type": "execute_result"
    }
   ],
   "source": [
    "SELECT DISTINCT animal\n",
    "FROM pet_supplies;"
   ]
  },
  {
   "cell_type": "markdown",
   "id": "635b44af-b39a-4a06-a641-4cb03ffc9057",
   "metadata": {},
   "source": [
    "Everything looks fine, so adding to our query for `category`, we have:"
   ]
  },
  {
   "cell_type": "code",
   "execution_count": 8,
   "id": "aaca04a9-8a29-4824-88a9-bc9036174b34",
   "metadata": {
    "customType": "sql",
    "dataFrameVariableName": "df7",
    "executionCancelledAt": null,
    "executionTime": 896,
    "lastExecutedAt": 1730819503693,
    "lastExecutedByKernel": "d635353f-286c-44b6-80f5-a56b288209b2",
    "lastScheduledRunId": null,
    "lastSuccessfullyExecutedCode": "SELECT product_id,\n\tCASE\n\t\tWHEN category IN ('Housing', 'Food', 'Toys', 'Equipment', 'Medicine', 'Accessory')\n\t\t\tTHEN category\n\t\tELSE 'Unknown'\n\tEND AS category,\n\tanimal\nFROM pet_supplies\nLIMIT 5;",
    "outputsMetadata": {
     "0": {
      "height": 239,
      "type": "dataFrame"
     }
    },
    "sqlCellMode": "dataFrame",
    "sqlSource": {
     "integrationId": "af2d5208-8759-4760-8fc5-287cfbb3507b",
     "integrationType": "postgresql",
     "type": "integration"
    }
   },
   "outputs": [
    {
     "@datacamp/metadata": {
      "executedQuery": "SELECT product_id,\n\tCASE\n\t\tWHEN category IN ('Housing', 'Food', 'Toys', 'Equipment', 'Medicine', 'Accessory')\n\t\t\tTHEN category\n\t\tELSE 'Unknown'\n\tEND AS category,\n\tanimal\nFROM pet_supplies\nLIMIT 5;",
      "executedQueryParameters": []
     },
     "data": {
      "application/com.datacamp.data-table.v2+json": {
       "table": {
        "data": {
         "animal": [
          "Bird",
          "Bird",
          "Dog",
          "Cat",
          "Cat"
         ],
         "category": [
          "Food",
          "Housing",
          "Food",
          "Medicine",
          "Housing"
         ],
         "index": [
          0,
          1,
          2,
          3,
          4
         ],
         "product_id": [
          1,
          2,
          3,
          4,
          5
         ]
        },
        "schema": {
         "fields": [
          {
           "name": "index",
           "type": "integer"
          },
          {
           "name": "product_id",
           "type": "integer"
          },
          {
           "name": "category",
           "type": "string"
          },
          {
           "name": "animal",
           "type": "string"
          }
         ],
         "pandas_version": "1.4.0",
         "primaryKey": [
          "index"
         ]
        }
       },
       "total_rows": 5,
       "truncation_type": null
      },
      "text/html": [
       "<div>\n",
       "<style scoped>\n",
       "    .dataframe tbody tr th:only-of-type {\n",
       "        vertical-align: middle;\n",
       "    }\n",
       "\n",
       "    .dataframe tbody tr th {\n",
       "        vertical-align: top;\n",
       "    }\n",
       "\n",
       "    .dataframe thead th {\n",
       "        text-align: right;\n",
       "    }\n",
       "</style>\n",
       "<table border=\"1\" class=\"dataframe\">\n",
       "  <thead>\n",
       "    <tr style=\"text-align: right;\">\n",
       "      <th></th>\n",
       "      <th>product_id</th>\n",
       "      <th>category</th>\n",
       "      <th>animal</th>\n",
       "    </tr>\n",
       "  </thead>\n",
       "  <tbody>\n",
       "    <tr>\n",
       "      <th>0</th>\n",
       "      <td>1</td>\n",
       "      <td>Food</td>\n",
       "      <td>Bird</td>\n",
       "    </tr>\n",
       "    <tr>\n",
       "      <th>1</th>\n",
       "      <td>2</td>\n",
       "      <td>Housing</td>\n",
       "      <td>Bird</td>\n",
       "    </tr>\n",
       "    <tr>\n",
       "      <th>2</th>\n",
       "      <td>3</td>\n",
       "      <td>Food</td>\n",
       "      <td>Dog</td>\n",
       "    </tr>\n",
       "    <tr>\n",
       "      <th>3</th>\n",
       "      <td>4</td>\n",
       "      <td>Medicine</td>\n",
       "      <td>Cat</td>\n",
       "    </tr>\n",
       "    <tr>\n",
       "      <th>4</th>\n",
       "      <td>5</td>\n",
       "      <td>Housing</td>\n",
       "      <td>Cat</td>\n",
       "    </tr>\n",
       "  </tbody>\n",
       "</table>\n",
       "</div>"
      ],
      "text/plain": [
       "   product_id  category animal\n",
       "0           1      Food   Bird\n",
       "1           2   Housing   Bird\n",
       "2           3      Food    Dog\n",
       "3           4  Medicine    Cat\n",
       "4           5   Housing    Cat"
      ]
     },
     "execution_count": 8,
     "metadata": {},
     "output_type": "execute_result"
    }
   ],
   "source": [
    "SELECT product_id,\n",
    "\tCASE\n",
    "\t\tWHEN category IN ('Housing', 'Food', 'Toys', 'Equipment', 'Medicine', 'Accessory')\n",
    "\t\t\tTHEN category\n",
    "\t\tELSE 'Unknown'\n",
    "\tEND AS category,\n",
    "\tanimal\n",
    "FROM pet_supplies\n",
    "LIMIT 5;"
   ]
  },
  {
   "cell_type": "markdown",
   "id": "cad065d3-769e-4070-9656-97681c43fcc7",
   "metadata": {},
   "source": [
    "### The `size` column\n",
    "_**Criteria:** Ordinal. The size of animal the product is for. Small, Medium, Large. Missing values should be replaced with “Unknown”._\n",
    "\n",
    "Let's see if this column has null values."
   ]
  },
  {
   "cell_type": "code",
   "execution_count": 9,
   "id": "d59d86a4-f2a9-40d1-aaca-253eb87f9c24",
   "metadata": {
    "customType": "sql",
    "dataFrameVariableName": "df8",
    "executionCancelledAt": null,
    "executionTime": 803,
    "lastExecutedAt": 1730819842124,
    "lastExecutedByKernel": "d635353f-286c-44b6-80f5-a56b288209b2",
    "lastScheduledRunId": null,
    "lastSuccessfullyExecutedCode": "SELECT COUNT(size)\nFROM pet_supplies;",
    "outputsMetadata": {
     "0": {
      "height": 110,
      "type": "dataFrame"
     }
    },
    "sqlCellMode": "dataFrame",
    "sqlSource": {
     "integrationId": "af2d5208-8759-4760-8fc5-287cfbb3507b",
     "integrationType": "postgresql",
     "type": "integration"
    }
   },
   "outputs": [
    {
     "@datacamp/metadata": {
      "executedQuery": "SELECT COUNT(size)\nFROM pet_supplies;",
      "executedQueryParameters": []
     },
     "data": {
      "application/com.datacamp.data-table.v2+json": {
       "table": {
        "data": {
         "count": [
          1500
         ],
         "index": [
          0
         ]
        },
        "schema": {
         "fields": [
          {
           "name": "index",
           "type": "integer"
          },
          {
           "name": "count",
           "type": "integer"
          }
         ],
         "pandas_version": "1.4.0",
         "primaryKey": [
          "index"
         ]
        }
       },
       "total_rows": 1,
       "truncation_type": null
      },
      "text/html": [
       "<div>\n",
       "<style scoped>\n",
       "    .dataframe tbody tr th:only-of-type {\n",
       "        vertical-align: middle;\n",
       "    }\n",
       "\n",
       "    .dataframe tbody tr th {\n",
       "        vertical-align: top;\n",
       "    }\n",
       "\n",
       "    .dataframe thead th {\n",
       "        text-align: right;\n",
       "    }\n",
       "</style>\n",
       "<table border=\"1\" class=\"dataframe\">\n",
       "  <thead>\n",
       "    <tr style=\"text-align: right;\">\n",
       "      <th></th>\n",
       "      <th>count</th>\n",
       "    </tr>\n",
       "  </thead>\n",
       "  <tbody>\n",
       "    <tr>\n",
       "      <th>0</th>\n",
       "      <td>1500</td>\n",
       "    </tr>\n",
       "  </tbody>\n",
       "</table>\n",
       "</div>"
      ],
      "text/plain": [
       "   count\n",
       "0   1500"
      ]
     },
     "execution_count": 9,
     "metadata": {},
     "output_type": "execute_result"
    }
   ],
   "source": [
    "SELECT COUNT(size)\n",
    "FROM pet_supplies;"
   ]
  },
  {
   "cell_type": "markdown",
   "id": "afa0671b-eb65-4095-b61e-8b4719aa8668",
   "metadata": {},
   "source": [
    "There are no `null` values. Let's see the unique values."
   ]
  },
  {
   "cell_type": "code",
   "execution_count": 10,
   "id": "e063f8d7-e6b5-464d-9f0a-6dff55cdc391",
   "metadata": {
    "customType": "sql",
    "dataFrameVariableName": "df9",
    "executionCancelledAt": null,
    "executionTime": 847,
    "lastExecutedAt": 1730819934460,
    "lastExecutedByKernel": "d635353f-286c-44b6-80f5-a56b288209b2",
    "lastScheduledRunId": null,
    "lastSuccessfullyExecutedCode": "SELECT DISTINCT size\nFROM pet_supplies;",
    "outputsMetadata": {
     "0": {
      "height": 334,
      "type": "dataFrame"
     }
    },
    "sqlCellMode": "dataFrame",
    "sqlSource": {
     "integrationId": "af2d5208-8759-4760-8fc5-287cfbb3507b",
     "integrationType": "postgresql",
     "type": "integration"
    }
   },
   "outputs": [
    {
     "@datacamp/metadata": {
      "executedQuery": "SELECT DISTINCT size\nFROM pet_supplies;",
      "executedQueryParameters": []
     },
     "data": {
      "application/com.datacamp.data-table.v2+json": {
       "table": {
        "data": {
         "index": [
          0,
          1,
          2,
          3,
          4,
          5,
          6,
          7,
          8
         ],
         "size": [
          "large",
          "medium",
          "Large",
          "Medium",
          "SMALL",
          "small",
          "LARGE",
          "MEDIUM",
          "Small"
         ]
        },
        "schema": {
         "fields": [
          {
           "name": "index",
           "type": "integer"
          },
          {
           "name": "size",
           "type": "string"
          }
         ],
         "pandas_version": "1.4.0",
         "primaryKey": [
          "index"
         ]
        }
       },
       "total_rows": 9,
       "truncation_type": null
      },
      "text/html": [
       "<div>\n",
       "<style scoped>\n",
       "    .dataframe tbody tr th:only-of-type {\n",
       "        vertical-align: middle;\n",
       "    }\n",
       "\n",
       "    .dataframe tbody tr th {\n",
       "        vertical-align: top;\n",
       "    }\n",
       "\n",
       "    .dataframe thead th {\n",
       "        text-align: right;\n",
       "    }\n",
       "</style>\n",
       "<table border=\"1\" class=\"dataframe\">\n",
       "  <thead>\n",
       "    <tr style=\"text-align: right;\">\n",
       "      <th></th>\n",
       "      <th>size</th>\n",
       "    </tr>\n",
       "  </thead>\n",
       "  <tbody>\n",
       "    <tr>\n",
       "      <th>0</th>\n",
       "      <td>large</td>\n",
       "    </tr>\n",
       "    <tr>\n",
       "      <th>1</th>\n",
       "      <td>medium</td>\n",
       "    </tr>\n",
       "    <tr>\n",
       "      <th>2</th>\n",
       "      <td>Large</td>\n",
       "    </tr>\n",
       "    <tr>\n",
       "      <th>3</th>\n",
       "      <td>Medium</td>\n",
       "    </tr>\n",
       "    <tr>\n",
       "      <th>4</th>\n",
       "      <td>SMALL</td>\n",
       "    </tr>\n",
       "    <tr>\n",
       "      <th>5</th>\n",
       "      <td>small</td>\n",
       "    </tr>\n",
       "    <tr>\n",
       "      <th>6</th>\n",
       "      <td>LARGE</td>\n",
       "    </tr>\n",
       "    <tr>\n",
       "      <th>7</th>\n",
       "      <td>MEDIUM</td>\n",
       "    </tr>\n",
       "    <tr>\n",
       "      <th>8</th>\n",
       "      <td>Small</td>\n",
       "    </tr>\n",
       "  </tbody>\n",
       "</table>\n",
       "</div>"
      ],
      "text/plain": [
       "     size\n",
       "0   large\n",
       "1  medium\n",
       "2   Large\n",
       "3  Medium\n",
       "4   SMALL\n",
       "5   small\n",
       "6   LARGE\n",
       "7  MEDIUM\n",
       "8   Small"
      ]
     },
     "execution_count": 10,
     "metadata": {},
     "output_type": "execute_result"
    }
   ],
   "source": [
    "SELECT DISTINCT size\n",
    "FROM pet_supplies;"
   ]
  },
  {
   "cell_type": "markdown",
   "id": "6b315d80-bf50-41a1-8fa8-ac0d05fc08b0",
   "metadata": {},
   "source": [
    "Ignoring the case, we see that there are 3 unique `size` values. We want each value to be in title case. We can achieve that using the `INITCAP()` function."
   ]
  },
  {
   "cell_type": "code",
   "execution_count": 11,
   "id": "0633dbb4-b1c8-4d3e-9620-f5cac940292f",
   "metadata": {
    "customType": "sql",
    "dataFrameVariableName": "df10",
    "executionCancelledAt": null,
    "executionTime": 854,
    "lastExecutedAt": 1730820587243,
    "lastExecutedByKernel": "d635353f-286c-44b6-80f5-a56b288209b2",
    "lastScheduledRunId": null,
    "lastSuccessfullyExecutedCode": "SELECT product_id,\n\tCASE\n\t\tWHEN category IN ('Housing', 'Food', 'Toys', 'Equipment', 'Medicine', 'Accessory')\n\t\t\tTHEN category\n\t\tELSE 'Unknown'\n\tEND AS category,\n\tanimal,\n\tCASE\n\t\tWHEN INITCAP(size) IN ('Small', 'Medium', 'Large') THEN INITCAP(size)\n\t\tELSE 'Unknown'\n\tEND AS size\nFROM pet_supplies\nLIMIT 5;",
    "outputsMetadata": {
     "0": {
      "height": 239,
      "type": "dataFrame"
     }
    },
    "sqlCellMode": "dataFrame",
    "sqlSource": {
     "integrationId": "af2d5208-8759-4760-8fc5-287cfbb3507b",
     "integrationType": "postgresql",
     "type": "integration"
    }
   },
   "outputs": [
    {
     "@datacamp/metadata": {
      "executedQuery": "SELECT product_id,\n\tCASE\n\t\tWHEN category IN ('Housing', 'Food', 'Toys', 'Equipment', 'Medicine', 'Accessory')\n\t\t\tTHEN category\n\t\tELSE 'Unknown'\n\tEND AS category,\n\tanimal,\n\tCASE\n\t\tWHEN INITCAP(size) IN ('Small', 'Medium', 'Large') THEN INITCAP(size)\n\t\tELSE 'Unknown'\n\tEND AS size\nFROM pet_supplies\nLIMIT 5;",
      "executedQueryParameters": []
     },
     "data": {
      "application/com.datacamp.data-table.v2+json": {
       "table": {
        "data": {
         "animal": [
          "Bird",
          "Bird",
          "Dog",
          "Cat",
          "Cat"
         ],
         "category": [
          "Food",
          "Housing",
          "Food",
          "Medicine",
          "Housing"
         ],
         "index": [
          0,
          1,
          2,
          3,
          4
         ],
         "product_id": [
          1,
          2,
          3,
          4,
          5
         ],
         "size": [
          "Large",
          "Medium",
          "Medium",
          "Small",
          "Small"
         ]
        },
        "schema": {
         "fields": [
          {
           "name": "index",
           "type": "integer"
          },
          {
           "name": "product_id",
           "type": "integer"
          },
          {
           "name": "category",
           "type": "string"
          },
          {
           "name": "animal",
           "type": "string"
          },
          {
           "name": "size",
           "type": "string"
          }
         ],
         "pandas_version": "1.4.0",
         "primaryKey": [
          "index"
         ]
        }
       },
       "total_rows": 5,
       "truncation_type": null
      },
      "text/html": [
       "<div>\n",
       "<style scoped>\n",
       "    .dataframe tbody tr th:only-of-type {\n",
       "        vertical-align: middle;\n",
       "    }\n",
       "\n",
       "    .dataframe tbody tr th {\n",
       "        vertical-align: top;\n",
       "    }\n",
       "\n",
       "    .dataframe thead th {\n",
       "        text-align: right;\n",
       "    }\n",
       "</style>\n",
       "<table border=\"1\" class=\"dataframe\">\n",
       "  <thead>\n",
       "    <tr style=\"text-align: right;\">\n",
       "      <th></th>\n",
       "      <th>product_id</th>\n",
       "      <th>category</th>\n",
       "      <th>animal</th>\n",
       "      <th>size</th>\n",
       "    </tr>\n",
       "  </thead>\n",
       "  <tbody>\n",
       "    <tr>\n",
       "      <th>0</th>\n",
       "      <td>1</td>\n",
       "      <td>Food</td>\n",
       "      <td>Bird</td>\n",
       "      <td>Large</td>\n",
       "    </tr>\n",
       "    <tr>\n",
       "      <th>1</th>\n",
       "      <td>2</td>\n",
       "      <td>Housing</td>\n",
       "      <td>Bird</td>\n",
       "      <td>Medium</td>\n",
       "    </tr>\n",
       "    <tr>\n",
       "      <th>2</th>\n",
       "      <td>3</td>\n",
       "      <td>Food</td>\n",
       "      <td>Dog</td>\n",
       "      <td>Medium</td>\n",
       "    </tr>\n",
       "    <tr>\n",
       "      <th>3</th>\n",
       "      <td>4</td>\n",
       "      <td>Medicine</td>\n",
       "      <td>Cat</td>\n",
       "      <td>Small</td>\n",
       "    </tr>\n",
       "    <tr>\n",
       "      <th>4</th>\n",
       "      <td>5</td>\n",
       "      <td>Housing</td>\n",
       "      <td>Cat</td>\n",
       "      <td>Small</td>\n",
       "    </tr>\n",
       "  </tbody>\n",
       "</table>\n",
       "</div>"
      ],
      "text/plain": [
       "   product_id  category animal    size\n",
       "0           1      Food   Bird   Large\n",
       "1           2   Housing   Bird  Medium\n",
       "2           3      Food    Dog  Medium\n",
       "3           4  Medicine    Cat   Small\n",
       "4           5   Housing    Cat   Small"
      ]
     },
     "execution_count": 11,
     "metadata": {},
     "output_type": "execute_result"
    }
   ],
   "source": [
    "SELECT product_id,\n",
    "\tCASE\n",
    "\t\tWHEN category IN ('Housing', 'Food', 'Toys', 'Equipment', 'Medicine', 'Accessory')\n",
    "\t\t\tTHEN category\n",
    "\t\tELSE 'Unknown'\n",
    "\tEND AS category,\n",
    "\tanimal,\n",
    "\tCASE\n",
    "\t\tWHEN INITCAP(size) IN ('Small', 'Medium', 'Large') THEN INITCAP(size)\n",
    "\t\tELSE 'Unknown'\n",
    "\tEND AS size\n",
    "FROM pet_supplies\n",
    "LIMIT 5;"
   ]
  },
  {
   "cell_type": "markdown",
   "id": "f81772b4-93fc-43eb-bf04-fab07f228a64",
   "metadata": {},
   "source": [
    "### The `price` column\n",
    "_**Criteria:** Continuous. The price the product is sold at. Can be any positive value, round to 2 decimal places. Missing values should be replaced with the overall median price._\n",
    "\n",
    "Let's check if this column contains any null values."
   ]
  },
  {
   "cell_type": "code",
   "execution_count": 1,
   "id": "a424ded6-ccb8-4a31-9698-20ac91e1fe2f",
   "metadata": {
    "customType": "sql",
    "dataFrameVariableName": "df11",
    "executionCancelledAt": null,
    "executionTime": 1161,
    "lastExecutedAt": 1730850678988,
    "lastExecutedByKernel": "9e850136-3a57-4cf5-be7f-7b0325ba635f",
    "lastScheduledRunId": null,
    "lastSuccessfullyExecutedCode": "SELECT COUNT(price)\nFROM pet_supplies;",
    "outputsMetadata": {
     "0": {
      "height": 110,
      "type": "dataFrame"
     }
    },
    "sqlCellMode": "dataFrame",
    "sqlSource": {
     "integrationId": "af2d5208-8759-4760-8fc5-287cfbb3507b",
     "integrationType": "postgresql",
     "type": "integration"
    }
   },
   "outputs": [
    {
     "@datacamp/metadata": {
      "executedQuery": "SELECT COUNT(price)\nFROM pet_supplies;",
      "executedQueryParameters": []
     },
     "data": {
      "application/com.datacamp.data-table.v2+json": {
       "table": {
        "data": {
         "count": [
          1500
         ],
         "index": [
          0
         ]
        },
        "schema": {
         "fields": [
          {
           "name": "index",
           "type": "integer"
          },
          {
           "name": "count",
           "type": "integer"
          }
         ],
         "pandas_version": "1.4.0",
         "primaryKey": [
          "index"
         ]
        }
       },
       "total_rows": 1,
       "truncation_type": null
      },
      "text/html": [
       "<div>\n",
       "<style scoped>\n",
       "    .dataframe tbody tr th:only-of-type {\n",
       "        vertical-align: middle;\n",
       "    }\n",
       "\n",
       "    .dataframe tbody tr th {\n",
       "        vertical-align: top;\n",
       "    }\n",
       "\n",
       "    .dataframe thead th {\n",
       "        text-align: right;\n",
       "    }\n",
       "</style>\n",
       "<table border=\"1\" class=\"dataframe\">\n",
       "  <thead>\n",
       "    <tr style=\"text-align: right;\">\n",
       "      <th></th>\n",
       "      <th>count</th>\n",
       "    </tr>\n",
       "  </thead>\n",
       "  <tbody>\n",
       "    <tr>\n",
       "      <th>0</th>\n",
       "      <td>1500</td>\n",
       "    </tr>\n",
       "  </tbody>\n",
       "</table>\n",
       "</div>"
      ],
      "text/plain": [
       "   count\n",
       "0   1500"
      ]
     },
     "execution_count": 1,
     "metadata": {},
     "output_type": "execute_result"
    }
   ],
   "source": [
    "SELECT COUNT(price)\n",
    "FROM pet_supplies;"
   ]
  },
  {
   "cell_type": "markdown",
   "id": "cc11a81c-2603-4055-aa12-5db4fd02f63c",
   "metadata": {},
   "source": [
    "There are no null values. `price` is not supposed to be negative, so let's see if there are values less than 0."
   ]
  },
  {
   "cell_type": "code",
   "execution_count": null,
   "id": "57036d02-d67f-4d74-9a99-3618ad5ca1f5",
   "metadata": {
    "customType": "sql",
    "dataFrameVariableName": "df12",
    "executionCancelledAt": null,
    "executionTime": 1162,
    "lastExecutedAt": 1730850966566,
    "lastExecutedByKernel": "9e850136-3a57-4cf5-be7f-7b0325ba635f",
    "lastScheduledRunId": null,
    "lastSuccessfullyExecutedCode": "SELECT price\nFROM pet_supplies\nWHERE price < 0\nLIMIT 5;",
    "sqlCellMode": "dataFrame",
    "sqlSource": {
     "integrationId": "af2d5208-8759-4760-8fc5-287cfbb3507b",
     "integrationType": "postgresql",
     "type": "integration"
    }
   },
   "outputs": [
    {
     "@datacamp/metadata": {
      "executedQuery": "SELECT price\nFROM pet_supplies\nWHERE price < 0\nLIMIT 5;",
      "executedQueryParameters": []
     },
     "ename": "Error",
     "evalue": "SELECT price\nFROM pet_supplies\nWHERE price < 0\nLIMIT 5; - operator does not exist: text < integer",
     "output_type": "error",
     "traceback": []
    }
   ],
   "source": [
    "SELECT price\n",
    "FROM pet_supplies\n",
    "WHERE price < 0\n",
    "LIMIT 5;"
   ]
  },
  {
   "cell_type": "markdown",
   "id": "20388391-a2b1-460f-bbb8-e932ed0f5173",
   "metadata": {},
   "source": [
    "Oh, it seems the data type of `price` is `text`, not `integer`. Let's confirm this."
   ]
  },
  {
   "cell_type": "code",
   "execution_count": 3,
   "id": "77207961-656d-45d8-9e2e-303c6d66bf65",
   "metadata": {
    "customType": "sql",
    "dataFrameVariableName": "df13",
    "executionCancelledAt": null,
    "executionTime": 719,
    "lastExecutedAt": 1730851095574,
    "lastExecutedByKernel": "9e850136-3a57-4cf5-be7f-7b0325ba635f",
    "lastScheduledRunId": null,
    "lastSuccessfullyExecutedCode": "SELECT DISTINCT pg_typeof(price)\nFROM pet_supplies;",
    "sqlCellMode": "dataFrame",
    "sqlSource": {
     "integrationId": "af2d5208-8759-4760-8fc5-287cfbb3507b",
     "integrationType": "postgresql",
     "type": "integration"
    }
   },
   "outputs": [
    {
     "@datacamp/metadata": {
      "executedQuery": "SELECT DISTINCT pg_typeof(price)\nFROM pet_supplies;",
      "executedQueryParameters": []
     },
     "data": {
      "application/com.datacamp.data-table.v2+json": {
       "table": {
        "data": {
         "index": [
          0
         ],
         "pg_typeof": [
          "text"
         ]
        },
        "schema": {
         "fields": [
          {
           "name": "index",
           "type": "integer"
          },
          {
           "name": "pg_typeof",
           "type": "string"
          }
         ],
         "pandas_version": "1.4.0",
         "primaryKey": [
          "index"
         ]
        }
       },
       "total_rows": 1,
       "truncation_type": null
      },
      "text/html": [
       "<div>\n",
       "<style scoped>\n",
       "    .dataframe tbody tr th:only-of-type {\n",
       "        vertical-align: middle;\n",
       "    }\n",
       "\n",
       "    .dataframe tbody tr th {\n",
       "        vertical-align: top;\n",
       "    }\n",
       "\n",
       "    .dataframe thead th {\n",
       "        text-align: right;\n",
       "    }\n",
       "</style>\n",
       "<table border=\"1\" class=\"dataframe\">\n",
       "  <thead>\n",
       "    <tr style=\"text-align: right;\">\n",
       "      <th></th>\n",
       "      <th>pg_typeof</th>\n",
       "    </tr>\n",
       "  </thead>\n",
       "  <tbody>\n",
       "    <tr>\n",
       "      <th>0</th>\n",
       "      <td>text</td>\n",
       "    </tr>\n",
       "  </tbody>\n",
       "</table>\n",
       "</div>"
      ],
      "text/plain": [
       "  pg_typeof\n",
       "0      text"
      ]
     },
     "execution_count": 3,
     "metadata": {},
     "output_type": "execute_result"
    }
   ],
   "source": [
    "SELECT DISTINCT pg_typeof(price)\n",
    "FROM pet_supplies;"
   ]
  },
  {
   "cell_type": "markdown",
   "id": "fa9c9f02-e660-45a5-940a-b35af14af1a4",
   "metadata": {},
   "source": [
    "Indeed, the data type is `text`. We'll need to convert it to `numeric`.\n",
    "\n",
    "Let's check if the pattern for this column resembles that of a positive whole or float number. Any entries that don't match this pattern will be replaced by the median of all values."
   ]
  },
  {
   "cell_type": "code",
   "execution_count": 4,
   "id": "69b6b509-d7a9-40e3-bd6b-cc513afca921",
   "metadata": {
    "customType": "sql",
    "dataFrameVariableName": "df14",
    "executionCancelledAt": null,
    "executionTime": 827,
    "lastExecutedAt": 1730851710238,
    "lastExecutedByKernel": "9e850136-3a57-4cf5-be7f-7b0325ba635f",
    "lastScheduledRunId": null,
    "lastSuccessfullyExecutedCode": "SELECT COUNT(price)\nFROM pet_supplies\nWHERE price SIMILAR TO '[0-9]*\\.?[0-9]*';",
    "sqlCellMode": "dataFrame",
    "sqlSource": {
     "integrationId": "af2d5208-8759-4760-8fc5-287cfbb3507b",
     "integrationType": "postgresql",
     "type": "integration"
    }
   },
   "outputs": [
    {
     "@datacamp/metadata": {
      "executedQuery": "SELECT COUNT(price)\nFROM pet_supplies\nWHERE price SIMILAR TO '[0-9]*\\.\\?[0-9]*';",
      "executedQueryParameters": []
     },
     "data": {
      "application/com.datacamp.data-table.v2+json": {
       "table": {
        "data": {
         "count": [
          1350
         ],
         "index": [
          0
         ]
        },
        "schema": {
         "fields": [
          {
           "name": "index",
           "type": "integer"
          },
          {
           "name": "count",
           "type": "integer"
          }
         ],
         "pandas_version": "1.4.0",
         "primaryKey": [
          "index"
         ]
        }
       },
       "total_rows": 1,
       "truncation_type": null
      },
      "text/html": [
       "<div>\n",
       "<style scoped>\n",
       "    .dataframe tbody tr th:only-of-type {\n",
       "        vertical-align: middle;\n",
       "    }\n",
       "\n",
       "    .dataframe tbody tr th {\n",
       "        vertical-align: top;\n",
       "    }\n",
       "\n",
       "    .dataframe thead th {\n",
       "        text-align: right;\n",
       "    }\n",
       "</style>\n",
       "<table border=\"1\" class=\"dataframe\">\n",
       "  <thead>\n",
       "    <tr style=\"text-align: right;\">\n",
       "      <th></th>\n",
       "      <th>count</th>\n",
       "    </tr>\n",
       "  </thead>\n",
       "  <tbody>\n",
       "    <tr>\n",
       "      <th>0</th>\n",
       "      <td>1350</td>\n",
       "    </tr>\n",
       "  </tbody>\n",
       "</table>\n",
       "</div>"
      ],
      "text/plain": [
       "   count\n",
       "0   1350"
      ]
     },
     "execution_count": 4,
     "metadata": {},
     "output_type": "execute_result"
    }
   ],
   "source": [
    "SELECT COUNT(price)\n",
    "FROM pet_supplies\n",
    "WHERE price SIMILAR TO '[0-9]*\\.?[0-9]*';"
   ]
  },
  {
   "cell_type": "markdown",
   "id": "6f6e98bd-1dcb-4add-ac2d-23de0cbea523",
   "metadata": {},
   "source": [
    "We see that there are 150 `price` entries that doesn't match the above pattern. We'll replace these entries with the median of the other values. But before that, let's actually see what these non-matching entries look like."
   ]
  },
  {
   "cell_type": "code",
   "execution_count": 5,
   "id": "8d675815-3a0d-436b-8c58-1ed2ad4574ab",
   "metadata": {
    "customType": "sql",
    "dataFrameVariableName": "df15",
    "executionCancelledAt": null,
    "executionTime": 1081,
    "lastExecutedAt": 1730852449769,
    "lastExecutedByKernel": "9e850136-3a57-4cf5-be7f-7b0325ba635f",
    "lastScheduledRunId": null,
    "lastSuccessfullyExecutedCode": "SELECT DISTINCT price\nFROM pet_supplies\nWHERE price NOT SIMILAR TO '[0-9]*\\.?[0-9]*';",
    "sqlCellMode": "dataFrame",
    "sqlSource": {
     "integrationId": "af2d5208-8759-4760-8fc5-287cfbb3507b",
     "integrationType": "postgresql",
     "type": "integration"
    }
   },
   "outputs": [
    {
     "@datacamp/metadata": {
      "executedQuery": "SELECT DISTINCT price\nFROM pet_supplies\nWHERE price NOT SIMILAR TO '[0-9]*\\.\\?[0-9]*';",
      "executedQueryParameters": []
     },
     "data": {
      "application/com.datacamp.data-table.v2+json": {
       "table": {
        "data": {
         "index": [
          0
         ],
         "price": [
          "unlisted"
         ]
        },
        "schema": {
         "fields": [
          {
           "name": "index",
           "type": "integer"
          },
          {
           "name": "price",
           "type": "string"
          }
         ],
         "pandas_version": "1.4.0",
         "primaryKey": [
          "index"
         ]
        }
       },
       "total_rows": 1,
       "truncation_type": null
      },
      "text/html": [
       "<div>\n",
       "<style scoped>\n",
       "    .dataframe tbody tr th:only-of-type {\n",
       "        vertical-align: middle;\n",
       "    }\n",
       "\n",
       "    .dataframe tbody tr th {\n",
       "        vertical-align: top;\n",
       "    }\n",
       "\n",
       "    .dataframe thead th {\n",
       "        text-align: right;\n",
       "    }\n",
       "</style>\n",
       "<table border=\"1\" class=\"dataframe\">\n",
       "  <thead>\n",
       "    <tr style=\"text-align: right;\">\n",
       "      <th></th>\n",
       "      <th>price</th>\n",
       "    </tr>\n",
       "  </thead>\n",
       "  <tbody>\n",
       "    <tr>\n",
       "      <th>0</th>\n",
       "      <td>unlisted</td>\n",
       "    </tr>\n",
       "  </tbody>\n",
       "</table>\n",
       "</div>"
      ],
      "text/plain": [
       "      price\n",
       "0  unlisted"
      ]
     },
     "execution_count": 5,
     "metadata": {},
     "output_type": "execute_result"
    }
   ],
   "source": [
    "SELECT DISTINCT price\n",
    "FROM pet_supplies\n",
    "WHERE price NOT SIMILAR TO '[0-9]*\\.?[0-9]*';"
   ]
  },
  {
   "cell_type": "markdown",
   "id": "aaef9de1-7577-4d7f-8722-0fd40b3e904f",
   "metadata": {},
   "source": [
    "We see that each of the 150 non-matching entries has a value of \"unlisted\". We'll replace this with the median of the other `price` values. To achieve this, we'll need to get the median using a common table expression (CTE). This is because we can't cast \"unlisted\" to `numeric` type."
   ]
  },
  {
   "cell_type": "code",
   "execution_count": 12,
   "id": "58bb83be-0684-4917-ada2-6b9b27460d24",
   "metadata": {
    "customType": "sql",
    "dataFrameVariableName": "df16",
    "executionCancelledAt": null,
    "executionTime": 1152,
    "lastExecutedAt": 1730854310536,
    "lastExecutedByKernel": "9e850136-3a57-4cf5-be7f-7b0325ba635f",
    "lastScheduledRunId": null,
    "lastSuccessfullyExecutedCode": "-- median CTE\nWITH median AS (\n\tSELECT ROUND(\n\t\t\t(\n\t\t\t\tPERCENTILE_CONT(0.5) WITHIN GROUP (ORDER BY price::NUMERIC)\n\t\t\t)::NUMERIC,\n\t\t2\n\t)\n\tFROM pet_supplies\n\tWHERE price SIMILAR TO '[0-9]*\\.?[0-9]*'\n)\n\n-- main query with the CTE\nSELECT product_id,\n\tCASE\n\t\tWHEN category IN ('Housing', 'Food', 'Toys', 'Equipment', 'Medicine', 'Accessory')\n\t\t\tTHEN category\n\t\tELSE 'Unknown'\n\tEND AS category,\n\tanimal,\n\tCASE\n\t\tWHEN INITCAP(size) IN ('Small', 'Medium', 'Large') THEN INITCAP(size)\n\t\tELSE 'Unknown'\n\tEND AS size,\n\tCASE\n\t\tWHEN price SIMILAR TO '[0-9]*\\.?[0-9]*' THEN ROUND(price::NUMERIC, 2)\n\t\tELSE (SELECT * FROM median)\n\tEND AS price\nFROM pet_supplies\nLIMIT 5;",
    "outputsMetadata": {
     "0": {
      "height": 543,
      "type": "dataFrame"
     }
    },
    "sqlCellMode": "dataFrame",
    "sqlSource": {
     "integrationId": "af2d5208-8759-4760-8fc5-287cfbb3507b",
     "integrationType": "postgresql",
     "type": "integration"
    }
   },
   "outputs": [
    {
     "@datacamp/metadata": {
      "executedQuery": "-- median CTE\nWITH median AS (\n\tSELECT ROUND(\n\t\t\t(\n\t\t\t\tPERCENTILE_CONT(0.5) WITHIN GROUP (ORDER BY price::NUMERIC)\n\t\t\t)::NUMERIC,\n\t\t2\n\t)\n\tFROM pet_supplies\n\tWHERE price SIMILAR TO '[0-9]*\\.\\?[0-9]*'\n)\n\n-- main query with the CTE\nSELECT product_id,\n\tCASE\n\t\tWHEN category IN ('Housing', 'Food', 'Toys', 'Equipment', 'Medicine', 'Accessory')\n\t\t\tTHEN category\n\t\tELSE 'Unknown'\n\tEND AS category,\n\tanimal,\n\tCASE\n\t\tWHEN INITCAP(size) IN ('Small', 'Medium', 'Large') THEN INITCAP(size)\n\t\tELSE 'Unknown'\n\tEND AS size,\n\tCASE\n\t\tWHEN price SIMILAR TO '[0-9]*\\.\\?[0-9]*' THEN ROUND(price::NUMERIC, 2)\n\t\tELSE (SELECT * FROM median)\n\tEND AS price\nFROM pet_supplies\nLIMIT 5;",
      "executedQueryParameters": []
     },
     "data": {
      "application/com.datacamp.data-table.v2+json": {
       "table": {
        "data": {
         "animal": [
          "Bird",
          "Bird",
          "Dog",
          "Cat",
          "Cat"
         ],
         "category": [
          "Food",
          "Housing",
          "Food",
          "Medicine",
          "Housing"
         ],
         "index": [
          0,
          1,
          2,
          3,
          4
         ],
         "price": [
          51.1,
          35.98,
          31.23,
          24.95,
          26.18
         ],
         "product_id": [
          1,
          2,
          3,
          4,
          5
         ],
         "size": [
          "Large",
          "Medium",
          "Medium",
          "Small",
          "Small"
         ]
        },
        "schema": {
         "fields": [
          {
           "name": "index",
           "type": "integer"
          },
          {
           "name": "product_id",
           "type": "integer"
          },
          {
           "name": "category",
           "type": "string"
          },
          {
           "name": "animal",
           "type": "string"
          },
          {
           "name": "size",
           "type": "string"
          },
          {
           "name": "price",
           "type": "number"
          }
         ],
         "pandas_version": "1.4.0",
         "primaryKey": [
          "index"
         ]
        }
       },
       "total_rows": 5,
       "truncation_type": null
      },
      "text/html": [
       "<div>\n",
       "<style scoped>\n",
       "    .dataframe tbody tr th:only-of-type {\n",
       "        vertical-align: middle;\n",
       "    }\n",
       "\n",
       "    .dataframe tbody tr th {\n",
       "        vertical-align: top;\n",
       "    }\n",
       "\n",
       "    .dataframe thead th {\n",
       "        text-align: right;\n",
       "    }\n",
       "</style>\n",
       "<table border=\"1\" class=\"dataframe\">\n",
       "  <thead>\n",
       "    <tr style=\"text-align: right;\">\n",
       "      <th></th>\n",
       "      <th>product_id</th>\n",
       "      <th>category</th>\n",
       "      <th>animal</th>\n",
       "      <th>size</th>\n",
       "      <th>price</th>\n",
       "    </tr>\n",
       "  </thead>\n",
       "  <tbody>\n",
       "    <tr>\n",
       "      <th>0</th>\n",
       "      <td>1</td>\n",
       "      <td>Food</td>\n",
       "      <td>Bird</td>\n",
       "      <td>Large</td>\n",
       "      <td>51.10</td>\n",
       "    </tr>\n",
       "    <tr>\n",
       "      <th>1</th>\n",
       "      <td>2</td>\n",
       "      <td>Housing</td>\n",
       "      <td>Bird</td>\n",
       "      <td>Medium</td>\n",
       "      <td>35.98</td>\n",
       "    </tr>\n",
       "    <tr>\n",
       "      <th>2</th>\n",
       "      <td>3</td>\n",
       "      <td>Food</td>\n",
       "      <td>Dog</td>\n",
       "      <td>Medium</td>\n",
       "      <td>31.23</td>\n",
       "    </tr>\n",
       "    <tr>\n",
       "      <th>3</th>\n",
       "      <td>4</td>\n",
       "      <td>Medicine</td>\n",
       "      <td>Cat</td>\n",
       "      <td>Small</td>\n",
       "      <td>24.95</td>\n",
       "    </tr>\n",
       "    <tr>\n",
       "      <th>4</th>\n",
       "      <td>5</td>\n",
       "      <td>Housing</td>\n",
       "      <td>Cat</td>\n",
       "      <td>Small</td>\n",
       "      <td>26.18</td>\n",
       "    </tr>\n",
       "  </tbody>\n",
       "</table>\n",
       "</div>"
      ],
      "text/plain": [
       "   product_id  category animal    size  price\n",
       "0           1      Food   Bird   Large  51.10\n",
       "1           2   Housing   Bird  Medium  35.98\n",
       "2           3      Food    Dog  Medium  31.23\n",
       "3           4  Medicine    Cat   Small  24.95\n",
       "4           5   Housing    Cat   Small  26.18"
      ]
     },
     "execution_count": 12,
     "metadata": {},
     "output_type": "execute_result"
    }
   ],
   "source": [
    "-- median CTE\n",
    "WITH median AS (\n",
    "\tSELECT ROUND(\n",
    "\t\t\t(\n",
    "\t\t\t\tPERCENTILE_CONT(0.5) WITHIN GROUP (ORDER BY price::NUMERIC)\n",
    "\t\t\t)::NUMERIC,\n",
    "\t\t2\n",
    "\t)\n",
    "\tFROM pet_supplies\n",
    "\tWHERE price SIMILAR TO '[0-9]*\\.?[0-9]*'\n",
    ")\n",
    "\n",
    "-- main query with the CTE\n",
    "SELECT product_id,\n",
    "\tCASE\n",
    "\t\tWHEN category IN ('Housing', 'Food', 'Toys', 'Equipment', 'Medicine', 'Accessory')\n",
    "\t\t\tTHEN category\n",
    "\t\tELSE 'Unknown'\n",
    "\tEND AS category,\n",
    "\tanimal,\n",
    "\tCASE\n",
    "\t\tWHEN INITCAP(size) IN ('Small', 'Medium', 'Large') THEN INITCAP(size)\n",
    "\t\tELSE 'Unknown'\n",
    "\tEND AS size,\n",
    "\tCASE\n",
    "\t\tWHEN price SIMILAR TO '[0-9]*\\.?[0-9]*' THEN ROUND(price::NUMERIC, 2)\n",
    "\t\tELSE (SELECT * FROM median)\n",
    "\tEND AS price\n",
    "FROM pet_supplies\n",
    "LIMIT 5;"
   ]
  },
  {
   "cell_type": "markdown",
   "id": "66114d86-e735-4a1c-b4d1-fa8bdde56d12",
   "metadata": {},
   "source": [
    "### The `sales` column\n",
    "_**Criteria:** Continuous. The value of all sales of the product in the last year. This can be any positive value, rounded to 2 decimal places. Missing values should be replaced with the overall median sales._\n",
    "\n",
    "Let's check for null values."
   ]
  },
  {
   "cell_type": "code",
   "execution_count": 13,
   "id": "d09c5982-49e5-44f6-972b-7a5e3c12ca0a",
   "metadata": {
    "customType": "sql",
    "dataFrameVariableName": "df17",
    "executionCancelledAt": null,
    "executionTime": 1106,
    "lastExecutedAt": 1730854875084,
    "lastExecutedByKernel": "9e850136-3a57-4cf5-be7f-7b0325ba635f",
    "lastScheduledRunId": null,
    "lastSuccessfullyExecutedCode": "SELECT COUNT(sales)\nFROM pet_supplies;",
    "sqlCellMode": "dataFrame",
    "sqlSource": {
     "integrationId": "af2d5208-8759-4760-8fc5-287cfbb3507b",
     "integrationType": "postgresql",
     "type": "integration"
    }
   },
   "outputs": [
    {
     "@datacamp/metadata": {
      "executedQuery": "SELECT COUNT(sales)\nFROM pet_supplies;",
      "executedQueryParameters": []
     },
     "data": {
      "application/com.datacamp.data-table.v2+json": {
       "table": {
        "data": {
         "count": [
          1500
         ],
         "index": [
          0
         ]
        },
        "schema": {
         "fields": [
          {
           "name": "index",
           "type": "integer"
          },
          {
           "name": "count",
           "type": "integer"
          }
         ],
         "pandas_version": "1.4.0",
         "primaryKey": [
          "index"
         ]
        }
       },
       "total_rows": 1,
       "truncation_type": null
      },
      "text/html": [
       "<div>\n",
       "<style scoped>\n",
       "    .dataframe tbody tr th:only-of-type {\n",
       "        vertical-align: middle;\n",
       "    }\n",
       "\n",
       "    .dataframe tbody tr th {\n",
       "        vertical-align: top;\n",
       "    }\n",
       "\n",
       "    .dataframe thead th {\n",
       "        text-align: right;\n",
       "    }\n",
       "</style>\n",
       "<table border=\"1\" class=\"dataframe\">\n",
       "  <thead>\n",
       "    <tr style=\"text-align: right;\">\n",
       "      <th></th>\n",
       "      <th>count</th>\n",
       "    </tr>\n",
       "  </thead>\n",
       "  <tbody>\n",
       "    <tr>\n",
       "      <th>0</th>\n",
       "      <td>1500</td>\n",
       "    </tr>\n",
       "  </tbody>\n",
       "</table>\n",
       "</div>"
      ],
      "text/plain": [
       "   count\n",
       "0   1500"
      ]
     },
     "execution_count": 13,
     "metadata": {},
     "output_type": "execute_result"
    }
   ],
   "source": [
    "SELECT COUNT(sales)\n",
    "FROM pet_supplies;"
   ]
  },
  {
   "cell_type": "markdown",
   "id": "ef729753-3e4b-40ce-98e6-97b653fc38a1",
   "metadata": {},
   "source": [
    "There are no null values. Let's check for negative values."
   ]
  },
  {
   "cell_type": "code",
   "execution_count": 14,
   "id": "b942ddec-1537-47f6-968d-10d2ca576990",
   "metadata": {
    "customType": "sql",
    "dataFrameVariableName": "df18",
    "executionCancelledAt": null,
    "executionTime": 960,
    "lastExecutedAt": 1730855051087,
    "lastExecutedByKernel": "9e850136-3a57-4cf5-be7f-7b0325ba635f",
    "lastScheduledRunId": null,
    "lastSuccessfullyExecutedCode": "SELECT sales\nFROM pet_supplies\nWHERE sales <= 0;",
    "sqlCellMode": "dataFrame",
    "sqlSource": {
     "integrationId": "af2d5208-8759-4760-8fc5-287cfbb3507b",
     "integrationType": "postgresql",
     "type": "integration"
    }
   },
   "outputs": [
    {
     "@datacamp/metadata": {
      "executedQuery": "SELECT sales\nFROM pet_supplies\nWHERE sales <= 0;",
      "executedQueryParameters": []
     },
     "data": {
      "application/com.datacamp.data-table.v2+json": {
       "table": {
        "data": {
         "index": [],
         "sales": []
        },
        "schema": {
         "fields": [
          {
           "name": "index",
           "type": "string"
          },
          {
           "name": "sales",
           "type": "integer"
          }
         ],
         "pandas_version": "1.4.0",
         "primaryKey": [
          "index"
         ]
        }
       },
       "total_rows": 0,
       "truncation_type": null
      },
      "text/html": [
       "<div>\n",
       "<style scoped>\n",
       "    .dataframe tbody tr th:only-of-type {\n",
       "        vertical-align: middle;\n",
       "    }\n",
       "\n",
       "    .dataframe tbody tr th {\n",
       "        vertical-align: top;\n",
       "    }\n",
       "\n",
       "    .dataframe thead th {\n",
       "        text-align: right;\n",
       "    }\n",
       "</style>\n",
       "<table border=\"1\" class=\"dataframe\">\n",
       "  <thead>\n",
       "    <tr style=\"text-align: right;\">\n",
       "      <th></th>\n",
       "      <th>sales</th>\n",
       "    </tr>\n",
       "  </thead>\n",
       "  <tbody>\n",
       "  </tbody>\n",
       "</table>\n",
       "</div>"
      ],
      "text/plain": [
       "Empty DataFrame\n",
       "Columns: [sales]\n",
       "Index: []"
      ]
     },
     "execution_count": 14,
     "metadata": {},
     "output_type": "execute_result"
    }
   ],
   "source": [
    "SELECT sales\n",
    "FROM pet_supplies\n",
    "WHERE sales <= 0;"
   ]
  },
  {
   "cell_type": "markdown",
   "id": "6f35fd7c-6933-49f4-97f8-014ccba155ef",
   "metadata": {},
   "source": [
    "It seems that all products sold at least once.\n",
    "\n",
    "The current state of our overall query will now be:"
   ]
  },
  {
   "cell_type": "code",
   "execution_count": 15,
   "id": "5eb702ce-b54c-4cf2-bb13-84ab01832535",
   "metadata": {
    "customType": "sql",
    "dataFrameVariableName": "df19",
    "executionCancelledAt": null,
    "executionTime": 950,
    "lastExecutedAt": 1730855218765,
    "lastExecutedByKernel": "9e850136-3a57-4cf5-be7f-7b0325ba635f",
    "lastScheduledRunId": null,
    "lastSuccessfullyExecutedCode": "-- median CTE\nWITH median AS (\n\tSELECT ROUND(\n\t\t\t(\n\t\t\t\tPERCENTILE_CONT(0.5) WITHIN GROUP (ORDER BY price::NUMERIC)\n\t\t\t)::NUMERIC,\n\t\t2\n\t)\n\tFROM pet_supplies\n\tWHERE price SIMILAR TO '[0-9]*\\.?[0-9]*'\n)\n\n-- main query with the CTE\nSELECT product_id,\n\tCASE\n\t\tWHEN category IN ('Housing', 'Food', 'Toys', 'Equipment', 'Medicine', 'Accessory')\n\t\t\tTHEN category\n\t\tELSE 'Unknown'\n\tEND AS category,\n\tanimal,\n\tCASE\n\t\tWHEN INITCAP(size) IN ('Small', 'Medium', 'Large') THEN INITCAP(size)\n\t\tELSE 'Unknown'\n\tEND AS size,\n\tCASE\n\t\tWHEN price SIMILAR TO '[0-9]*\\.?[0-9]*' THEN ROUND(price::NUMERIC, 2)\n\t\tELSE (SELECT * FROM median)\n\tEND AS price,\n\tROUND(sales::NUMERIC, 2) AS sales\nFROM pet_supplies\nLIMIT 5;",
    "sqlCellMode": "dataFrame",
    "sqlSource": {
     "integrationId": "af2d5208-8759-4760-8fc5-287cfbb3507b",
     "integrationType": "postgresql",
     "type": "integration"
    }
   },
   "outputs": [
    {
     "@datacamp/metadata": {
      "executedQuery": "-- median CTE\nWITH median AS (\n\tSELECT ROUND(\n\t\t\t(\n\t\t\t\tPERCENTILE_CONT(0.5) WITHIN GROUP (ORDER BY price::NUMERIC)\n\t\t\t)::NUMERIC,\n\t\t2\n\t)\n\tFROM pet_supplies\n\tWHERE price SIMILAR TO '[0-9]*\\.\\?[0-9]*'\n)\n\n-- main query with the CTE\nSELECT product_id,\n\tCASE\n\t\tWHEN category IN ('Housing', 'Food', 'Toys', 'Equipment', 'Medicine', 'Accessory')\n\t\t\tTHEN category\n\t\tELSE 'Unknown'\n\tEND AS category,\n\tanimal,\n\tCASE\n\t\tWHEN INITCAP(size) IN ('Small', 'Medium', 'Large') THEN INITCAP(size)\n\t\tELSE 'Unknown'\n\tEND AS size,\n\tCASE\n\t\tWHEN price SIMILAR TO '[0-9]*\\.\\?[0-9]*' THEN ROUND(price::NUMERIC, 2)\n\t\tELSE (SELECT * FROM median)\n\tEND AS price,\n\tROUND(sales::NUMERIC, 2) AS sales\nFROM pet_supplies\nLIMIT 5;",
      "executedQueryParameters": []
     },
     "data": {
      "application/com.datacamp.data-table.v2+json": {
       "table": {
        "data": {
         "animal": [
          "Bird",
          "Bird",
          "Dog",
          "Cat",
          "Cat"
         ],
         "category": [
          "Food",
          "Housing",
          "Food",
          "Medicine",
          "Housing"
         ],
         "index": [
          0,
          1,
          2,
          3,
          4
         ],
         "price": [
          51.1,
          35.98,
          31.23,
          24.95,
          26.18
         ],
         "product_id": [
          1,
          2,
          3,
          4,
          5
         ],
         "sales": [
          1860.62,
          963.6,
          898.3,
          982.15,
          832.63
         ],
         "size": [
          "Large",
          "Medium",
          "Medium",
          "Small",
          "Small"
         ]
        },
        "schema": {
         "fields": [
          {
           "name": "index",
           "type": "integer"
          },
          {
           "name": "product_id",
           "type": "integer"
          },
          {
           "name": "category",
           "type": "string"
          },
          {
           "name": "animal",
           "type": "string"
          },
          {
           "name": "size",
           "type": "string"
          },
          {
           "name": "price",
           "type": "number"
          },
          {
           "name": "sales",
           "type": "number"
          }
         ],
         "pandas_version": "1.4.0",
         "primaryKey": [
          "index"
         ]
        }
       },
       "total_rows": 5,
       "truncation_type": null
      },
      "text/html": [
       "<div>\n",
       "<style scoped>\n",
       "    .dataframe tbody tr th:only-of-type {\n",
       "        vertical-align: middle;\n",
       "    }\n",
       "\n",
       "    .dataframe tbody tr th {\n",
       "        vertical-align: top;\n",
       "    }\n",
       "\n",
       "    .dataframe thead th {\n",
       "        text-align: right;\n",
       "    }\n",
       "</style>\n",
       "<table border=\"1\" class=\"dataframe\">\n",
       "  <thead>\n",
       "    <tr style=\"text-align: right;\">\n",
       "      <th></th>\n",
       "      <th>product_id</th>\n",
       "      <th>category</th>\n",
       "      <th>animal</th>\n",
       "      <th>size</th>\n",
       "      <th>price</th>\n",
       "      <th>sales</th>\n",
       "    </tr>\n",
       "  </thead>\n",
       "  <tbody>\n",
       "    <tr>\n",
       "      <th>0</th>\n",
       "      <td>1</td>\n",
       "      <td>Food</td>\n",
       "      <td>Bird</td>\n",
       "      <td>Large</td>\n",
       "      <td>51.10</td>\n",
       "      <td>1860.62</td>\n",
       "    </tr>\n",
       "    <tr>\n",
       "      <th>1</th>\n",
       "      <td>2</td>\n",
       "      <td>Housing</td>\n",
       "      <td>Bird</td>\n",
       "      <td>Medium</td>\n",
       "      <td>35.98</td>\n",
       "      <td>963.60</td>\n",
       "    </tr>\n",
       "    <tr>\n",
       "      <th>2</th>\n",
       "      <td>3</td>\n",
       "      <td>Food</td>\n",
       "      <td>Dog</td>\n",
       "      <td>Medium</td>\n",
       "      <td>31.23</td>\n",
       "      <td>898.30</td>\n",
       "    </tr>\n",
       "    <tr>\n",
       "      <th>3</th>\n",
       "      <td>4</td>\n",
       "      <td>Medicine</td>\n",
       "      <td>Cat</td>\n",
       "      <td>Small</td>\n",
       "      <td>24.95</td>\n",
       "      <td>982.15</td>\n",
       "    </tr>\n",
       "    <tr>\n",
       "      <th>4</th>\n",
       "      <td>5</td>\n",
       "      <td>Housing</td>\n",
       "      <td>Cat</td>\n",
       "      <td>Small</td>\n",
       "      <td>26.18</td>\n",
       "      <td>832.63</td>\n",
       "    </tr>\n",
       "  </tbody>\n",
       "</table>\n",
       "</div>"
      ],
      "text/plain": [
       "   product_id  category animal    size  price    sales\n",
       "0           1      Food   Bird   Large  51.10  1860.62\n",
       "1           2   Housing   Bird  Medium  35.98   963.60\n",
       "2           3      Food    Dog  Medium  31.23   898.30\n",
       "3           4  Medicine    Cat   Small  24.95   982.15\n",
       "4           5   Housing    Cat   Small  26.18   832.63"
      ]
     },
     "execution_count": 15,
     "metadata": {},
     "output_type": "execute_result"
    }
   ],
   "source": [
    "-- median CTE\n",
    "WITH median AS (\n",
    "\tSELECT ROUND(\n",
    "\t\t\t(\n",
    "\t\t\t\tPERCENTILE_CONT(0.5) WITHIN GROUP (ORDER BY price::NUMERIC)\n",
    "\t\t\t)::NUMERIC,\n",
    "\t\t2\n",
    "\t)\n",
    "\tFROM pet_supplies\n",
    "\tWHERE price SIMILAR TO '[0-9]*\\.?[0-9]*'\n",
    ")\n",
    "\n",
    "-- main query with the CTE\n",
    "SELECT product_id,\n",
    "\tCASE\n",
    "\t\tWHEN category IN ('Housing', 'Food', 'Toys', 'Equipment', 'Medicine', 'Accessory')\n",
    "\t\t\tTHEN category\n",
    "\t\tELSE 'Unknown'\n",
    "\tEND AS category,\n",
    "\tanimal,\n",
    "\tCASE\n",
    "\t\tWHEN INITCAP(size) IN ('Small', 'Medium', 'Large') THEN INITCAP(size)\n",
    "\t\tELSE 'Unknown'\n",
    "\tEND AS size,\n",
    "\tCASE\n",
    "\t\tWHEN price SIMILAR TO '[0-9]*\\.?[0-9]*' THEN ROUND(price::NUMERIC, 2)\n",
    "\t\tELSE (SELECT * FROM median)\n",
    "\tEND AS price,\n",
    "\tROUND(sales::NUMERIC, 2) AS sales\n",
    "FROM pet_supplies\n",
    "LIMIT 5;"
   ]
  },
  {
   "cell_type": "markdown",
   "id": "98141696-5fc2-4c1c-a1a8-5ffb1e1e0157",
   "metadata": {},
   "source": [
    "### The `rating` column\n",
    "_**Criteria:** Discrete. Customer rating of the product from 1 to 10. Missing values should be replaced with 0._\n",
    "\n",
    "Let's check if this has null values."
   ]
  },
  {
   "cell_type": "code",
   "execution_count": 16,
   "id": "4861051b-aee4-49fc-8964-e29183e3976f",
   "metadata": {
    "customType": "sql",
    "dataFrameVariableName": "df20",
    "executionCancelledAt": null,
    "executionTime": 873,
    "lastExecutedAt": 1730855696081,
    "lastExecutedByKernel": "9e850136-3a57-4cf5-be7f-7b0325ba635f",
    "lastScheduledRunId": null,
    "lastSuccessfullyExecutedCode": "SELECT COUNT(rating)\nFROM pet_supplies;",
    "sqlCellMode": "dataFrame",
    "sqlSource": {
     "integrationId": "af2d5208-8759-4760-8fc5-287cfbb3507b",
     "integrationType": "postgresql",
     "type": "integration"
    }
   },
   "outputs": [
    {
     "@datacamp/metadata": {
      "executedQuery": "SELECT COUNT(rating)\nFROM pet_supplies;",
      "executedQueryParameters": []
     },
     "data": {
      "application/com.datacamp.data-table.v2+json": {
       "table": {
        "data": {
         "count": [
          1350
         ],
         "index": [
          0
         ]
        },
        "schema": {
         "fields": [
          {
           "name": "index",
           "type": "integer"
          },
          {
           "name": "count",
           "type": "integer"
          }
         ],
         "pandas_version": "1.4.0",
         "primaryKey": [
          "index"
         ]
        }
       },
       "total_rows": 1,
       "truncation_type": null
      },
      "text/html": [
       "<div>\n",
       "<style scoped>\n",
       "    .dataframe tbody tr th:only-of-type {\n",
       "        vertical-align: middle;\n",
       "    }\n",
       "\n",
       "    .dataframe tbody tr th {\n",
       "        vertical-align: top;\n",
       "    }\n",
       "\n",
       "    .dataframe thead th {\n",
       "        text-align: right;\n",
       "    }\n",
       "</style>\n",
       "<table border=\"1\" class=\"dataframe\">\n",
       "  <thead>\n",
       "    <tr style=\"text-align: right;\">\n",
       "      <th></th>\n",
       "      <th>count</th>\n",
       "    </tr>\n",
       "  </thead>\n",
       "  <tbody>\n",
       "    <tr>\n",
       "      <th>0</th>\n",
       "      <td>1350</td>\n",
       "    </tr>\n",
       "  </tbody>\n",
       "</table>\n",
       "</div>"
      ],
      "text/plain": [
       "   count\n",
       "0   1350"
      ]
     },
     "execution_count": 16,
     "metadata": {},
     "output_type": "execute_result"
    }
   ],
   "source": [
    "SELECT COUNT(rating)\n",
    "FROM pet_supplies;"
   ]
  },
  {
   "cell_type": "markdown",
   "id": "86bb8a9b-e78e-44d9-82e1-6ad09a6d6a89",
   "metadata": {},
   "source": [
    "It has about 150 null values. Let's see all the unique values."
   ]
  },
  {
   "cell_type": "code",
   "execution_count": 17,
   "id": "c124d130-d9eb-4b30-8063-b8d8ad071b76",
   "metadata": {
    "customType": "sql",
    "dataFrameVariableName": "df21",
    "executionCancelledAt": null,
    "executionTime": 851,
    "lastExecutedAt": 1730855769060,
    "lastExecutedByKernel": "9e850136-3a57-4cf5-be7f-7b0325ba635f",
    "lastScheduledRunId": null,
    "lastSuccessfullyExecutedCode": "SELECT DISTINCT rating\nFROM pet_supplies;",
    "sqlCellMode": "dataFrame",
    "sqlSource": {
     "integrationId": "af2d5208-8759-4760-8fc5-287cfbb3507b",
     "integrationType": "postgresql",
     "type": "integration"
    }
   },
   "outputs": [
    {
     "@datacamp/metadata": {
      "executedQuery": "SELECT DISTINCT rating\nFROM pet_supplies;",
      "executedQueryParameters": []
     },
     "data": {
      "application/com.datacamp.data-table.v2+json": {
       "table": {
        "data": {
         "index": [
          0,
          1,
          2,
          3,
          4,
          5,
          6,
          7,
          8,
          9
         ],
         "rating": [
          8,
          9,
          null,
          7,
          1,
          5,
          2,
          4,
          6,
          3
         ]
        },
        "schema": {
         "fields": [
          {
           "name": "index",
           "type": "integer"
          },
          {
           "name": "rating",
           "type": "number"
          }
         ],
         "pandas_version": "1.4.0",
         "primaryKey": [
          "index"
         ]
        }
       },
       "total_rows": 10,
       "truncation_type": null
      },
      "text/html": [
       "<div>\n",
       "<style scoped>\n",
       "    .dataframe tbody tr th:only-of-type {\n",
       "        vertical-align: middle;\n",
       "    }\n",
       "\n",
       "    .dataframe tbody tr th {\n",
       "        vertical-align: top;\n",
       "    }\n",
       "\n",
       "    .dataframe thead th {\n",
       "        text-align: right;\n",
       "    }\n",
       "</style>\n",
       "<table border=\"1\" class=\"dataframe\">\n",
       "  <thead>\n",
       "    <tr style=\"text-align: right;\">\n",
       "      <th></th>\n",
       "      <th>rating</th>\n",
       "    </tr>\n",
       "  </thead>\n",
       "  <tbody>\n",
       "    <tr>\n",
       "      <th>0</th>\n",
       "      <td>8.0</td>\n",
       "    </tr>\n",
       "    <tr>\n",
       "      <th>1</th>\n",
       "      <td>9.0</td>\n",
       "    </tr>\n",
       "    <tr>\n",
       "      <th>2</th>\n",
       "      <td>NaN</td>\n",
       "    </tr>\n",
       "    <tr>\n",
       "      <th>3</th>\n",
       "      <td>7.0</td>\n",
       "    </tr>\n",
       "    <tr>\n",
       "      <th>4</th>\n",
       "      <td>1.0</td>\n",
       "    </tr>\n",
       "    <tr>\n",
       "      <th>5</th>\n",
       "      <td>5.0</td>\n",
       "    </tr>\n",
       "    <tr>\n",
       "      <th>6</th>\n",
       "      <td>2.0</td>\n",
       "    </tr>\n",
       "    <tr>\n",
       "      <th>7</th>\n",
       "      <td>4.0</td>\n",
       "    </tr>\n",
       "    <tr>\n",
       "      <th>8</th>\n",
       "      <td>6.0</td>\n",
       "    </tr>\n",
       "    <tr>\n",
       "      <th>9</th>\n",
       "      <td>3.0</td>\n",
       "    </tr>\n",
       "  </tbody>\n",
       "</table>\n",
       "</div>"
      ],
      "text/plain": [
       "   rating\n",
       "0     8.0\n",
       "1     9.0\n",
       "2     NaN\n",
       "3     7.0\n",
       "4     1.0\n",
       "5     5.0\n",
       "6     2.0\n",
       "7     4.0\n",
       "8     6.0\n",
       "9     3.0"
      ]
     },
     "execution_count": 17,
     "metadata": {},
     "output_type": "execute_result"
    }
   ],
   "source": [
    "SELECT DISTINCT rating\n",
    "FROM pet_supplies;"
   ]
  },
  {
   "cell_type": "markdown",
   "id": "68344320-5e48-450a-9bfa-549cc13a125a",
   "metadata": {},
   "source": [
    "Indeed, there are null values. Let's make sure of the data type of this column before writing our query to handle null values."
   ]
  },
  {
   "cell_type": "code",
   "execution_count": 18,
   "id": "c0bc435e-a4f1-4dac-97d5-2d7c65a3cfa0",
   "metadata": {
    "customType": "sql",
    "dataFrameVariableName": "df22",
    "executionCancelledAt": null,
    "executionTime": 979,
    "lastExecutedAt": 1730855931796,
    "lastExecutedByKernel": "9e850136-3a57-4cf5-be7f-7b0325ba635f",
    "lastScheduledRunId": null,
    "lastSuccessfullyExecutedCode": "SELECT DISTINCT pg_typeof(rating)\nFROM pet_supplies;",
    "sqlCellMode": "dataFrame",
    "sqlSource": {
     "integrationId": "af2d5208-8759-4760-8fc5-287cfbb3507b",
     "integrationType": "postgresql",
     "type": "integration"
    }
   },
   "outputs": [
    {
     "@datacamp/metadata": {
      "executedQuery": "SELECT DISTINCT pg_typeof(rating)\nFROM pet_supplies;",
      "executedQueryParameters": []
     },
     "data": {
      "application/com.datacamp.data-table.v2+json": {
       "table": {
        "data": {
         "index": [
          0
         ],
         "pg_typeof": [
          "integer"
         ]
        },
        "schema": {
         "fields": [
          {
           "name": "index",
           "type": "integer"
          },
          {
           "name": "pg_typeof",
           "type": "string"
          }
         ],
         "pandas_version": "1.4.0",
         "primaryKey": [
          "index"
         ]
        }
       },
       "total_rows": 1,
       "truncation_type": null
      },
      "text/html": [
       "<div>\n",
       "<style scoped>\n",
       "    .dataframe tbody tr th:only-of-type {\n",
       "        vertical-align: middle;\n",
       "    }\n",
       "\n",
       "    .dataframe tbody tr th {\n",
       "        vertical-align: top;\n",
       "    }\n",
       "\n",
       "    .dataframe thead th {\n",
       "        text-align: right;\n",
       "    }\n",
       "</style>\n",
       "<table border=\"1\" class=\"dataframe\">\n",
       "  <thead>\n",
       "    <tr style=\"text-align: right;\">\n",
       "      <th></th>\n",
       "      <th>pg_typeof</th>\n",
       "    </tr>\n",
       "  </thead>\n",
       "  <tbody>\n",
       "    <tr>\n",
       "      <th>0</th>\n",
       "      <td>integer</td>\n",
       "    </tr>\n",
       "  </tbody>\n",
       "</table>\n",
       "</div>"
      ],
      "text/plain": [
       "  pg_typeof\n",
       "0   integer"
      ]
     },
     "execution_count": 18,
     "metadata": {},
     "output_type": "execute_result"
    }
   ],
   "source": [
    "SELECT DISTINCT pg_typeof(rating)\n",
    "FROM pet_supplies;"
   ]
  },
  {
   "cell_type": "markdown",
   "id": "9a1478ef-4c0f-4d7a-ab95-e8c5988dbbeb",
   "metadata": {},
   "source": [
    "Let's now update our main query to include the `rating` column."
   ]
  },
  {
   "cell_type": "code",
   "execution_count": 21,
   "id": "c0a9538c-0b64-4e71-b25b-1d6559df6a77",
   "metadata": {
    "customType": "sql",
    "dataFrameVariableName": "df23",
    "executionCancelledAt": null,
    "executionTime": 1005,
    "lastExecutedAt": 1730856257282,
    "lastExecutedByKernel": "9e850136-3a57-4cf5-be7f-7b0325ba635f",
    "lastScheduledRunId": null,
    "lastSuccessfullyExecutedCode": "-- median CTE\nWITH median AS (\n\tSELECT ROUND(\n\t\t\t(\n\t\t\t\tPERCENTILE_CONT(0.5) WITHIN GROUP (ORDER BY price::NUMERIC)\n\t\t\t)::NUMERIC,\n\t\t2\n\t)\n\tFROM pet_supplies\n\tWHERE price SIMILAR TO '[0-9]*\\.?[0-9]*'\n)\n\n-- main query with the CTE\nSELECT product_id,\n\tCASE\n\t\tWHEN category IN ('Housing', 'Food', 'Toys', 'Equipment', 'Medicine', 'Accessory')\n\t\t\tTHEN category\n\t\tELSE 'Unknown'\n\tEND AS category,\n\tanimal,\n\tCASE\n\t\tWHEN INITCAP(size) IN ('Small', 'Medium', 'Large') THEN INITCAP(size)\n\t\tELSE 'Unknown'\n\tEND AS size,\n\tCASE\n\t\tWHEN price SIMILAR TO '[0-9]*\\.?[0-9]*' THEN ROUND(price::NUMERIC, 2)\n\t\tELSE (SELECT * FROM median)\n\tEND AS price,\n\tROUND(sales::NUMERIC, 2) AS sales,\n\tCASE\n\t\tWHEN rating IS NULL THEN 0\n\t\tELSE rating\n\tEND AS rating\nFROM pet_supplies\nLIMIT 5;",
    "sqlCellMode": "dataFrame",
    "sqlSource": {
     "integrationId": "af2d5208-8759-4760-8fc5-287cfbb3507b",
     "integrationType": "postgresql",
     "type": "integration"
    }
   },
   "outputs": [
    {
     "@datacamp/metadata": {
      "executedQuery": "-- median CTE\nWITH median AS (\n\tSELECT ROUND(\n\t\t\t(\n\t\t\t\tPERCENTILE_CONT(0.5) WITHIN GROUP (ORDER BY price::NUMERIC)\n\t\t\t)::NUMERIC,\n\t\t2\n\t)\n\tFROM pet_supplies\n\tWHERE price SIMILAR TO '[0-9]*\\.\\?[0-9]*'\n)\n\n-- main query with the CTE\nSELECT product_id,\n\tCASE\n\t\tWHEN category IN ('Housing', 'Food', 'Toys', 'Equipment', 'Medicine', 'Accessory')\n\t\t\tTHEN category\n\t\tELSE 'Unknown'\n\tEND AS category,\n\tanimal,\n\tCASE\n\t\tWHEN INITCAP(size) IN ('Small', 'Medium', 'Large') THEN INITCAP(size)\n\t\tELSE 'Unknown'\n\tEND AS size,\n\tCASE\n\t\tWHEN price SIMILAR TO '[0-9]*\\.\\?[0-9]*' THEN ROUND(price::NUMERIC, 2)\n\t\tELSE (SELECT * FROM median)\n\tEND AS price,\n\tROUND(sales::NUMERIC, 2) AS sales,\n\tCASE\n\t\tWHEN rating IS NULL THEN 0\n\t\tELSE rating\n\tEND AS rating\nFROM pet_supplies\nLIMIT 5;",
      "executedQueryParameters": []
     },
     "data": {
      "application/com.datacamp.data-table.v2+json": {
       "table": {
        "data": {
         "animal": [
          "Bird",
          "Bird",
          "Dog",
          "Cat",
          "Cat"
         ],
         "category": [
          "Food",
          "Housing",
          "Food",
          "Medicine",
          "Housing"
         ],
         "index": [
          0,
          1,
          2,
          3,
          4
         ],
         "price": [
          51.1,
          35.98,
          31.23,
          24.95,
          26.18
         ],
         "product_id": [
          1,
          2,
          3,
          4,
          5
         ],
         "rating": [
          7,
          6,
          5,
          6,
          7
         ],
         "sales": [
          1860.62,
          963.6,
          898.3,
          982.15,
          832.63
         ],
         "size": [
          "Large",
          "Medium",
          "Medium",
          "Small",
          "Small"
         ]
        },
        "schema": {
         "fields": [
          {
           "name": "index",
           "type": "integer"
          },
          {
           "name": "product_id",
           "type": "integer"
          },
          {
           "name": "category",
           "type": "string"
          },
          {
           "name": "animal",
           "type": "string"
          },
          {
           "name": "size",
           "type": "string"
          },
          {
           "name": "price",
           "type": "number"
          },
          {
           "name": "sales",
           "type": "number"
          },
          {
           "name": "rating",
           "type": "integer"
          }
         ],
         "pandas_version": "1.4.0",
         "primaryKey": [
          "index"
         ]
        }
       },
       "total_rows": 5,
       "truncation_type": null
      },
      "text/html": [
       "<div>\n",
       "<style scoped>\n",
       "    .dataframe tbody tr th:only-of-type {\n",
       "        vertical-align: middle;\n",
       "    }\n",
       "\n",
       "    .dataframe tbody tr th {\n",
       "        vertical-align: top;\n",
       "    }\n",
       "\n",
       "    .dataframe thead th {\n",
       "        text-align: right;\n",
       "    }\n",
       "</style>\n",
       "<table border=\"1\" class=\"dataframe\">\n",
       "  <thead>\n",
       "    <tr style=\"text-align: right;\">\n",
       "      <th></th>\n",
       "      <th>product_id</th>\n",
       "      <th>category</th>\n",
       "      <th>animal</th>\n",
       "      <th>size</th>\n",
       "      <th>price</th>\n",
       "      <th>sales</th>\n",
       "      <th>rating</th>\n",
       "    </tr>\n",
       "  </thead>\n",
       "  <tbody>\n",
       "    <tr>\n",
       "      <th>0</th>\n",
       "      <td>1</td>\n",
       "      <td>Food</td>\n",
       "      <td>Bird</td>\n",
       "      <td>Large</td>\n",
       "      <td>51.10</td>\n",
       "      <td>1860.62</td>\n",
       "      <td>7</td>\n",
       "    </tr>\n",
       "    <tr>\n",
       "      <th>1</th>\n",
       "      <td>2</td>\n",
       "      <td>Housing</td>\n",
       "      <td>Bird</td>\n",
       "      <td>Medium</td>\n",
       "      <td>35.98</td>\n",
       "      <td>963.60</td>\n",
       "      <td>6</td>\n",
       "    </tr>\n",
       "    <tr>\n",
       "      <th>2</th>\n",
       "      <td>3</td>\n",
       "      <td>Food</td>\n",
       "      <td>Dog</td>\n",
       "      <td>Medium</td>\n",
       "      <td>31.23</td>\n",
       "      <td>898.30</td>\n",
       "      <td>5</td>\n",
       "    </tr>\n",
       "    <tr>\n",
       "      <th>3</th>\n",
       "      <td>4</td>\n",
       "      <td>Medicine</td>\n",
       "      <td>Cat</td>\n",
       "      <td>Small</td>\n",
       "      <td>24.95</td>\n",
       "      <td>982.15</td>\n",
       "      <td>6</td>\n",
       "    </tr>\n",
       "    <tr>\n",
       "      <th>4</th>\n",
       "      <td>5</td>\n",
       "      <td>Housing</td>\n",
       "      <td>Cat</td>\n",
       "      <td>Small</td>\n",
       "      <td>26.18</td>\n",
       "      <td>832.63</td>\n",
       "      <td>7</td>\n",
       "    </tr>\n",
       "  </tbody>\n",
       "</table>\n",
       "</div>"
      ],
      "text/plain": [
       "   product_id  category animal    size  price    sales  rating\n",
       "0           1      Food   Bird   Large  51.10  1860.62       7\n",
       "1           2   Housing   Bird  Medium  35.98   963.60       6\n",
       "2           3      Food    Dog  Medium  31.23   898.30       5\n",
       "3           4  Medicine    Cat   Small  24.95   982.15       6\n",
       "4           5   Housing    Cat   Small  26.18   832.63       7"
      ]
     },
     "execution_count": 21,
     "metadata": {},
     "output_type": "execute_result"
    }
   ],
   "source": [
    "-- median CTE\n",
    "WITH median AS (\n",
    "\tSELECT ROUND(\n",
    "\t\t\t(\n",
    "\t\t\t\tPERCENTILE_CONT(0.5) WITHIN GROUP (ORDER BY price::NUMERIC)\n",
    "\t\t\t)::NUMERIC,\n",
    "\t\t2\n",
    "\t)\n",
    "\tFROM pet_supplies\n",
    "\tWHERE price SIMILAR TO '[0-9]*\\.?[0-9]*'\n",
    ")\n",
    "\n",
    "-- main query with the CTE\n",
    "SELECT product_id,\n",
    "\tCASE\n",
    "\t\tWHEN category IN ('Housing', 'Food', 'Toys', 'Equipment', 'Medicine', 'Accessory')\n",
    "\t\t\tTHEN category\n",
    "\t\tELSE 'Unknown'\n",
    "\tEND AS category,\n",
    "\tanimal,\n",
    "\tCASE\n",
    "\t\tWHEN INITCAP(size) IN ('Small', 'Medium', 'Large') THEN INITCAP(size)\n",
    "\t\tELSE 'Unknown'\n",
    "\tEND AS size,\n",
    "\tCASE\n",
    "\t\tWHEN price SIMILAR TO '[0-9]*\\.?[0-9]*' THEN ROUND(price::NUMERIC, 2)\n",
    "\t\tELSE (SELECT * FROM median)\n",
    "\tEND AS price,\n",
    "\tROUND(sales::NUMERIC, 2) AS sales,\n",
    "\tCASE\n",
    "\t\tWHEN rating IS NULL THEN 0\n",
    "\t\tELSE rating\n",
    "\tEND AS rating\n",
    "FROM pet_supplies\n",
    "LIMIT 5;"
   ]
  },
  {
   "cell_type": "markdown",
   "id": "6d259b76-a718-4dd1-9dbe-13bac518572b",
   "metadata": {},
   "source": [
    "### The `repeat_purchase` column\n",
    "_**Criteria:** Nominal. Whether customers repeatedly buy the product (1) or not (0). Missing values should be removed._\n",
    "\n",
    "Let's see if this column has null values."
   ]
  },
  {
   "cell_type": "code",
   "execution_count": 22,
   "id": "74e3498c-6487-4be4-a345-1084efb0e429",
   "metadata": {
    "customType": "sql",
    "dataFrameVariableName": "df24",
    "executionCancelledAt": null,
    "executionTime": 993,
    "lastExecutedAt": 1730856396142,
    "lastExecutedByKernel": "9e850136-3a57-4cf5-be7f-7b0325ba635f",
    "lastScheduledRunId": null,
    "lastSuccessfullyExecutedCode": "SELECT COUNT(repeat_purchase)\nFROM pet_supplies;",
    "sqlCellMode": "dataFrame",
    "sqlSource": {
     "integrationId": "af2d5208-8759-4760-8fc5-287cfbb3507b",
     "integrationType": "postgresql",
     "type": "integration"
    }
   },
   "outputs": [
    {
     "@datacamp/metadata": {
      "executedQuery": "SELECT COUNT(repeat_purchase)\nFROM pet_supplies;",
      "executedQueryParameters": []
     },
     "data": {
      "application/com.datacamp.data-table.v2+json": {
       "table": {
        "data": {
         "count": [
          1500
         ],
         "index": [
          0
         ]
        },
        "schema": {
         "fields": [
          {
           "name": "index",
           "type": "integer"
          },
          {
           "name": "count",
           "type": "integer"
          }
         ],
         "pandas_version": "1.4.0",
         "primaryKey": [
          "index"
         ]
        }
       },
       "total_rows": 1,
       "truncation_type": null
      },
      "text/html": [
       "<div>\n",
       "<style scoped>\n",
       "    .dataframe tbody tr th:only-of-type {\n",
       "        vertical-align: middle;\n",
       "    }\n",
       "\n",
       "    .dataframe tbody tr th {\n",
       "        vertical-align: top;\n",
       "    }\n",
       "\n",
       "    .dataframe thead th {\n",
       "        text-align: right;\n",
       "    }\n",
       "</style>\n",
       "<table border=\"1\" class=\"dataframe\">\n",
       "  <thead>\n",
       "    <tr style=\"text-align: right;\">\n",
       "      <th></th>\n",
       "      <th>count</th>\n",
       "    </tr>\n",
       "  </thead>\n",
       "  <tbody>\n",
       "    <tr>\n",
       "      <th>0</th>\n",
       "      <td>1500</td>\n",
       "    </tr>\n",
       "  </tbody>\n",
       "</table>\n",
       "</div>"
      ],
      "text/plain": [
       "   count\n",
       "0   1500"
      ]
     },
     "execution_count": 22,
     "metadata": {},
     "output_type": "execute_result"
    }
   ],
   "source": [
    "SELECT COUNT(repeat_purchase)\n",
    "FROM pet_supplies;"
   ]
  },
  {
   "cell_type": "markdown",
   "id": "4aba1f3a-9b52-40c2-9414-833adae8e28f",
   "metadata": {},
   "source": [
    "There are no null values. Let's see all the unique values."
   ]
  },
  {
   "cell_type": "code",
   "execution_count": 23,
   "id": "65004831-13c4-4932-a894-bb3240aa45d8",
   "metadata": {
    "customType": "sql",
    "dataFrameVariableName": "df25",
    "executionCancelledAt": null,
    "executionTime": 630,
    "lastExecutedAt": 1730856479181,
    "lastExecutedByKernel": "9e850136-3a57-4cf5-be7f-7b0325ba635f",
    "lastScheduledRunId": null,
    "lastSuccessfullyExecutedCode": "SELECT DISTINCT repeat_purchase\nFROM pet_supplies;",
    "sqlCellMode": "dataFrame",
    "sqlSource": {
     "integrationId": "af2d5208-8759-4760-8fc5-287cfbb3507b",
     "integrationType": "postgresql",
     "type": "integration"
    }
   },
   "outputs": [
    {
     "@datacamp/metadata": {
      "executedQuery": "SELECT DISTINCT repeat_purchase\nFROM pet_supplies;",
      "executedQueryParameters": []
     },
     "data": {
      "application/com.datacamp.data-table.v2+json": {
       "table": {
        "data": {
         "index": [
          0,
          1
         ],
         "repeat_purchase": [
          0,
          1
         ]
        },
        "schema": {
         "fields": [
          {
           "name": "index",
           "type": "integer"
          },
          {
           "name": "repeat_purchase",
           "type": "integer"
          }
         ],
         "pandas_version": "1.4.0",
         "primaryKey": [
          "index"
         ]
        }
       },
       "total_rows": 2,
       "truncation_type": null
      },
      "text/html": [
       "<div>\n",
       "<style scoped>\n",
       "    .dataframe tbody tr th:only-of-type {\n",
       "        vertical-align: middle;\n",
       "    }\n",
       "\n",
       "    .dataframe tbody tr th {\n",
       "        vertical-align: top;\n",
       "    }\n",
       "\n",
       "    .dataframe thead th {\n",
       "        text-align: right;\n",
       "    }\n",
       "</style>\n",
       "<table border=\"1\" class=\"dataframe\">\n",
       "  <thead>\n",
       "    <tr style=\"text-align: right;\">\n",
       "      <th></th>\n",
       "      <th>repeat_purchase</th>\n",
       "    </tr>\n",
       "  </thead>\n",
       "  <tbody>\n",
       "    <tr>\n",
       "      <th>0</th>\n",
       "      <td>0</td>\n",
       "    </tr>\n",
       "    <tr>\n",
       "      <th>1</th>\n",
       "      <td>1</td>\n",
       "    </tr>\n",
       "  </tbody>\n",
       "</table>\n",
       "</div>"
      ],
      "text/plain": [
       "   repeat_purchase\n",
       "0                0\n",
       "1                1"
      ]
     },
     "execution_count": 23,
     "metadata": {},
     "output_type": "execute_result"
    }
   ],
   "source": [
    "SELECT DISTINCT repeat_purchase\n",
    "FROM pet_supplies;"
   ]
  },
  {
   "cell_type": "markdown",
   "id": "9bc89ea1-9469-4d40-8c8a-67f081c699be",
   "metadata": {},
   "source": [
    "Everything looks good. Let's add this column to our query."
   ]
  },
  {
   "cell_type": "code",
   "execution_count": 24,
   "id": "2c290cf0-c658-488e-ad67-8c81bf1f6186",
   "metadata": {
    "customType": "sql",
    "dataFrameVariableName": "df26",
    "executionCancelledAt": null,
    "executionTime": 937,
    "lastExecutedAt": 1730856589333,
    "lastExecutedByKernel": "9e850136-3a57-4cf5-be7f-7b0325ba635f",
    "lastScheduledRunId": null,
    "lastSuccessfullyExecutedCode": "-- median CTE\nWITH median AS (\n\tSELECT ROUND(\n\t\t\t(\n\t\t\t\tPERCENTILE_CONT(0.5) WITHIN GROUP (ORDER BY price::NUMERIC)\n\t\t\t)::NUMERIC,\n\t\t2\n\t)\n\tFROM pet_supplies\n\tWHERE price SIMILAR TO '[0-9]*\\.?[0-9]*'\n)\n\n-- main query with the CTE\nSELECT product_id,\n\tCASE\n\t\tWHEN category IN ('Housing', 'Food', 'Toys', 'Equipment', 'Medicine', 'Accessory')\n\t\t\tTHEN category\n\t\tELSE 'Unknown'\n\tEND AS category,\n\tanimal,\n\tCASE\n\t\tWHEN INITCAP(size) IN ('Small', 'Medium', 'Large') THEN INITCAP(size)\n\t\tELSE 'Unknown'\n\tEND AS size,\n\tCASE\n\t\tWHEN price SIMILAR TO '[0-9]*\\.?[0-9]*' THEN ROUND(price::NUMERIC, 2)\n\t\tELSE (SELECT * FROM median)\n\tEND AS price,\n\tROUND(sales::NUMERIC, 2) AS sales,\n\tCASE\n\t\tWHEN rating IS NULL THEN 0\n\t\tELSE rating\n\tEND AS rating,\n\trepeat_purchase\nFROM pet_supplies\nLIMIT 5;",
    "sqlCellMode": "dataFrame",
    "sqlSource": {
     "integrationId": "af2d5208-8759-4760-8fc5-287cfbb3507b",
     "integrationType": "postgresql",
     "type": "integration"
    }
   },
   "outputs": [
    {
     "@datacamp/metadata": {
      "executedQuery": "-- median CTE\nWITH median AS (\n\tSELECT ROUND(\n\t\t\t(\n\t\t\t\tPERCENTILE_CONT(0.5) WITHIN GROUP (ORDER BY price::NUMERIC)\n\t\t\t)::NUMERIC,\n\t\t2\n\t)\n\tFROM pet_supplies\n\tWHERE price SIMILAR TO '[0-9]*\\.\\?[0-9]*'\n)\n\n-- main query with the CTE\nSELECT product_id,\n\tCASE\n\t\tWHEN category IN ('Housing', 'Food', 'Toys', 'Equipment', 'Medicine', 'Accessory')\n\t\t\tTHEN category\n\t\tELSE 'Unknown'\n\tEND AS category,\n\tanimal,\n\tCASE\n\t\tWHEN INITCAP(size) IN ('Small', 'Medium', 'Large') THEN INITCAP(size)\n\t\tELSE 'Unknown'\n\tEND AS size,\n\tCASE\n\t\tWHEN price SIMILAR TO '[0-9]*\\.\\?[0-9]*' THEN ROUND(price::NUMERIC, 2)\n\t\tELSE (SELECT * FROM median)\n\tEND AS price,\n\tROUND(sales::NUMERIC, 2) AS sales,\n\tCASE\n\t\tWHEN rating IS NULL THEN 0\n\t\tELSE rating\n\tEND AS rating,\n\trepeat_purchase\nFROM pet_supplies\nLIMIT 5;",
      "executedQueryParameters": []
     },
     "data": {
      "application/com.datacamp.data-table.v2+json": {
       "table": {
        "data": {
         "animal": [
          "Bird",
          "Bird",
          "Dog",
          "Cat",
          "Cat"
         ],
         "category": [
          "Food",
          "Housing",
          "Food",
          "Medicine",
          "Housing"
         ],
         "index": [
          0,
          1,
          2,
          3,
          4
         ],
         "price": [
          51.1,
          35.98,
          31.23,
          24.95,
          26.18
         ],
         "product_id": [
          1,
          2,
          3,
          4,
          5
         ],
         "rating": [
          7,
          6,
          5,
          6,
          7
         ],
         "repeat_purchase": [
          1,
          0,
          1,
          1,
          1
         ],
         "sales": [
          1860.62,
          963.6,
          898.3,
          982.15,
          832.63
         ],
         "size": [
          "Large",
          "Medium",
          "Medium",
          "Small",
          "Small"
         ]
        },
        "schema": {
         "fields": [
          {
           "name": "index",
           "type": "integer"
          },
          {
           "name": "product_id",
           "type": "integer"
          },
          {
           "name": "category",
           "type": "string"
          },
          {
           "name": "animal",
           "type": "string"
          },
          {
           "name": "size",
           "type": "string"
          },
          {
           "name": "price",
           "type": "number"
          },
          {
           "name": "sales",
           "type": "number"
          },
          {
           "name": "rating",
           "type": "integer"
          },
          {
           "name": "repeat_purchase",
           "type": "integer"
          }
         ],
         "pandas_version": "1.4.0",
         "primaryKey": [
          "index"
         ]
        }
       },
       "total_rows": 5,
       "truncation_type": null
      },
      "text/html": [
       "<div>\n",
       "<style scoped>\n",
       "    .dataframe tbody tr th:only-of-type {\n",
       "        vertical-align: middle;\n",
       "    }\n",
       "\n",
       "    .dataframe tbody tr th {\n",
       "        vertical-align: top;\n",
       "    }\n",
       "\n",
       "    .dataframe thead th {\n",
       "        text-align: right;\n",
       "    }\n",
       "</style>\n",
       "<table border=\"1\" class=\"dataframe\">\n",
       "  <thead>\n",
       "    <tr style=\"text-align: right;\">\n",
       "      <th></th>\n",
       "      <th>product_id</th>\n",
       "      <th>category</th>\n",
       "      <th>animal</th>\n",
       "      <th>size</th>\n",
       "      <th>price</th>\n",
       "      <th>sales</th>\n",
       "      <th>rating</th>\n",
       "      <th>repeat_purchase</th>\n",
       "    </tr>\n",
       "  </thead>\n",
       "  <tbody>\n",
       "    <tr>\n",
       "      <th>0</th>\n",
       "      <td>1</td>\n",
       "      <td>Food</td>\n",
       "      <td>Bird</td>\n",
       "      <td>Large</td>\n",
       "      <td>51.10</td>\n",
       "      <td>1860.62</td>\n",
       "      <td>7</td>\n",
       "      <td>1</td>\n",
       "    </tr>\n",
       "    <tr>\n",
       "      <th>1</th>\n",
       "      <td>2</td>\n",
       "      <td>Housing</td>\n",
       "      <td>Bird</td>\n",
       "      <td>Medium</td>\n",
       "      <td>35.98</td>\n",
       "      <td>963.60</td>\n",
       "      <td>6</td>\n",
       "      <td>0</td>\n",
       "    </tr>\n",
       "    <tr>\n",
       "      <th>2</th>\n",
       "      <td>3</td>\n",
       "      <td>Food</td>\n",
       "      <td>Dog</td>\n",
       "      <td>Medium</td>\n",
       "      <td>31.23</td>\n",
       "      <td>898.30</td>\n",
       "      <td>5</td>\n",
       "      <td>1</td>\n",
       "    </tr>\n",
       "    <tr>\n",
       "      <th>3</th>\n",
       "      <td>4</td>\n",
       "      <td>Medicine</td>\n",
       "      <td>Cat</td>\n",
       "      <td>Small</td>\n",
       "      <td>24.95</td>\n",
       "      <td>982.15</td>\n",
       "      <td>6</td>\n",
       "      <td>1</td>\n",
       "    </tr>\n",
       "    <tr>\n",
       "      <th>4</th>\n",
       "      <td>5</td>\n",
       "      <td>Housing</td>\n",
       "      <td>Cat</td>\n",
       "      <td>Small</td>\n",
       "      <td>26.18</td>\n",
       "      <td>832.63</td>\n",
       "      <td>7</td>\n",
       "      <td>1</td>\n",
       "    </tr>\n",
       "  </tbody>\n",
       "</table>\n",
       "</div>"
      ],
      "text/plain": [
       "   product_id  category animal    size  price    sales  rating  repeat_purchase\n",
       "0           1      Food   Bird   Large  51.10  1860.62       7                1\n",
       "1           2   Housing   Bird  Medium  35.98   963.60       6                0\n",
       "2           3      Food    Dog  Medium  31.23   898.30       5                1\n",
       "3           4  Medicine    Cat   Small  24.95   982.15       6                1\n",
       "4           5   Housing    Cat   Small  26.18   832.63       7                1"
      ]
     },
     "execution_count": 24,
     "metadata": {},
     "output_type": "execute_result"
    }
   ],
   "source": [
    "-- median CTE\n",
    "WITH median AS (\n",
    "\tSELECT ROUND(\n",
    "\t\t\t(\n",
    "\t\t\t\tPERCENTILE_CONT(0.5) WITHIN GROUP (ORDER BY price::NUMERIC)\n",
    "\t\t\t)::NUMERIC,\n",
    "\t\t2\n",
    "\t)\n",
    "\tFROM pet_supplies\n",
    "\tWHERE price SIMILAR TO '[0-9]*\\.?[0-9]*'\n",
    ")\n",
    "\n",
    "-- main query with the CTE\n",
    "SELECT product_id,\n",
    "\tCASE\n",
    "\t\tWHEN category IN ('Housing', 'Food', 'Toys', 'Equipment', 'Medicine', 'Accessory')\n",
    "\t\t\tTHEN category\n",
    "\t\tELSE 'Unknown'\n",
    "\tEND AS category,\n",
    "\tanimal,\n",
    "\tCASE\n",
    "\t\tWHEN INITCAP(size) IN ('Small', 'Medium', 'Large') THEN INITCAP(size)\n",
    "\t\tELSE 'Unknown'\n",
    "\tEND AS size,\n",
    "\tCASE\n",
    "\t\tWHEN price SIMILAR TO '[0-9]*\\.?[0-9]*' THEN ROUND(price::NUMERIC, 2)\n",
    "\t\tELSE (SELECT * FROM median)\n",
    "\tEND AS price,\n",
    "\tROUND(sales::NUMERIC, 2) AS sales,\n",
    "\tCASE\n",
    "\t\tWHEN rating IS NULL THEN 0\n",
    "\t\tELSE rating\n",
    "\tEND AS rating,\n",
    "\trepeat_purchase\n",
    "FROM pet_supplies\n",
    "LIMIT 5;"
   ]
  },
  {
   "cell_type": "markdown",
   "id": "d2755435-2bb7-49ba-94e7-1b4a75ca858a",
   "metadata": {},
   "source": [
    "## Are Sales Higher for Repeat Purchases for Different Animals?\n",
    "Now, we'll use our clean data from the previous section to answer the above question. To answer this question, we need to find the average sales (`avg_sales`) for each combination of `animal` and `repeat_purchase` indicator. To put the average sales in perspective, we'll find the range of sales too, i.e. the minimum (`min_sales`) and maximum sales (`max_sales`). Further, to make comparison in and between groups easy, we'll order by `animal` and then by `repeat_purchase`."
   ]
  },
  {
   "cell_type": "code",
   "execution_count": 28,
   "id": "341b5ec7-bd76-48f6-bf94-dc072deebea6",
   "metadata": {
    "customType": "sql",
    "dataFrameVariableName": "df27",
    "executionCancelledAt": null,
    "executionTime": 928,
    "lastExecutedAt": 1730857966973,
    "lastExecutedByKernel": "9e850136-3a57-4cf5-be7f-7b0325ba635f",
    "lastScheduledRunId": null,
    "lastSuccessfullyExecutedCode": "-- median CTE\nWITH median AS (\n\tSELECT ROUND(\n\t\t\t(\n\t\t\t\tPERCENTILE_CONT(0.5) WITHIN GROUP (ORDER BY price::NUMERIC)\n\t\t\t)::NUMERIC,\n\t\t2\n\t)\n\tFROM pet_supplies\n\tWHERE price SIMILAR TO '[0-9]*\\.?[0-9]*'\n), clean_pet_supplies AS (\n\tSELECT product_id,\n\t\tCASE\n\t\t\tWHEN category IN ('Housing', 'Food', 'Toys', 'Equipment', 'Medicine', 'Accessory')\n\t\t\t\tTHEN category\n\t\t\tELSE 'Unknown'\n\t\tEND AS category,\n\t\tanimal,\n\t\tCASE\n\t\t\tWHEN INITCAP(size) IN ('Small', 'Medium', 'Large') THEN INITCAP(size)\n\t\t\tELSE 'Unknown'\n\t\tEND AS size,\n\t\tCASE\n\t\t\tWHEN price SIMILAR TO '[0-9]*\\.?[0-9]*' THEN ROUND(price::NUMERIC, 2)\n\t\t\tELSE (SELECT * FROM median)\n\t\tEND AS price,\n\t\tROUND(sales::NUMERIC, 2) AS sales,\n\t\tCASE\n\t\t\tWHEN rating IS NULL THEN 0\n\t\t\tELSE rating\n\t\tEND AS rating,\n\t\trepeat_purchase\n\tFROM pet_supplies\n)\n\n-- Are Sales Higher for Repeat Purchases for Different Animals?\nSELECT animal, repeat_purchase,\n\tROUND(AVG(sales)) AS avg_sales,\n\tROUND(MIN(sales)) AS min_sales, ROUND(max(sales)) AS max_sales\nFROM clean_pet_supplies\nGROUP BY repeat_purchase, animal\nORDER BY animal, repeat_purchase;",
    "sqlCellMode": "dataFrame",
    "sqlSource": {
     "integrationId": "af2d5208-8759-4760-8fc5-287cfbb3507b",
     "integrationType": "postgresql",
     "type": "integration"
    }
   },
   "outputs": [
    {
     "@datacamp/metadata": {
      "executedQuery": "-- median CTE\nWITH median AS (\n\tSELECT ROUND(\n\t\t\t(\n\t\t\t\tPERCENTILE_CONT(0.5) WITHIN GROUP (ORDER BY price::NUMERIC)\n\t\t\t)::NUMERIC,\n\t\t2\n\t)\n\tFROM pet_supplies\n\tWHERE price SIMILAR TO '[0-9]*\\.\\?[0-9]*'\n), clean_pet_supplies AS (\n\tSELECT product_id,\n\t\tCASE\n\t\t\tWHEN category IN ('Housing', 'Food', 'Toys', 'Equipment', 'Medicine', 'Accessory')\n\t\t\t\tTHEN category\n\t\t\tELSE 'Unknown'\n\t\tEND AS category,\n\t\tanimal,\n\t\tCASE\n\t\t\tWHEN INITCAP(size) IN ('Small', 'Medium', 'Large') THEN INITCAP(size)\n\t\t\tELSE 'Unknown'\n\t\tEND AS size,\n\t\tCASE\n\t\t\tWHEN price SIMILAR TO '[0-9]*\\.\\?[0-9]*' THEN ROUND(price::NUMERIC, 2)\n\t\t\tELSE (SELECT * FROM median)\n\t\tEND AS price,\n\t\tROUND(sales::NUMERIC, 2) AS sales,\n\t\tCASE\n\t\t\tWHEN rating IS NULL THEN 0\n\t\t\tELSE rating\n\t\tEND AS rating,\n\t\trepeat_purchase\n\tFROM pet_supplies\n)\n\n-- Are Sales Higher for Repeat Purchases for Different Animals\\?\nSELECT animal, repeat_purchase,\n\tROUND(AVG(sales)) AS avg_sales,\n\tROUND(MIN(sales)) AS min_sales, ROUND(max(sales)) AS max_sales\nFROM clean_pet_supplies\nGROUP BY repeat_purchase, animal\nORDER BY animal, repeat_purchase;",
      "executedQueryParameters": []
     },
     "data": {
      "application/com.datacamp.data-table.v2+json": {
       "table": {
        "data": {
         "animal": [
          "Bird",
          "Bird",
          "Cat",
          "Cat",
          "Dog",
          "Dog",
          "Fish",
          "Fish"
         ],
         "avg_sales": [
          1380,
          1408,
          1035,
          998,
          1084,
          1038,
          705,
          693
         ],
         "index": [
          0,
          1,
          2,
          3,
          4,
          5,
          6,
          7
         ],
         "max_sales": [
          2255,
          2256,
          1730,
          1724,
          1795,
          1797,
          1307,
          1301
         ],
         "min_sales": [
          858,
          853,
          512,
          512,
          574,
          574,
          288,
          287
         ],
         "repeat_purchase": [
          0,
          1,
          0,
          1,
          0,
          1,
          0,
          1
         ]
        },
        "schema": {
         "fields": [
          {
           "name": "index",
           "type": "integer"
          },
          {
           "name": "animal",
           "type": "string"
          },
          {
           "name": "repeat_purchase",
           "type": "integer"
          },
          {
           "name": "avg_sales",
           "type": "integer"
          },
          {
           "name": "min_sales",
           "type": "integer"
          },
          {
           "name": "max_sales",
           "type": "integer"
          }
         ],
         "pandas_version": "1.4.0",
         "primaryKey": [
          "index"
         ]
        }
       },
       "total_rows": 8,
       "truncation_type": null
      },
      "text/html": [
       "<div>\n",
       "<style scoped>\n",
       "    .dataframe tbody tr th:only-of-type {\n",
       "        vertical-align: middle;\n",
       "    }\n",
       "\n",
       "    .dataframe tbody tr th {\n",
       "        vertical-align: top;\n",
       "    }\n",
       "\n",
       "    .dataframe thead th {\n",
       "        text-align: right;\n",
       "    }\n",
       "</style>\n",
       "<table border=\"1\" class=\"dataframe\">\n",
       "  <thead>\n",
       "    <tr style=\"text-align: right;\">\n",
       "      <th></th>\n",
       "      <th>animal</th>\n",
       "      <th>repeat_purchase</th>\n",
       "      <th>avg_sales</th>\n",
       "      <th>min_sales</th>\n",
       "      <th>max_sales</th>\n",
       "    </tr>\n",
       "  </thead>\n",
       "  <tbody>\n",
       "    <tr>\n",
       "      <th>0</th>\n",
       "      <td>Bird</td>\n",
       "      <td>0</td>\n",
       "      <td>1380</td>\n",
       "      <td>858</td>\n",
       "      <td>2255</td>\n",
       "    </tr>\n",
       "    <tr>\n",
       "      <th>1</th>\n",
       "      <td>Bird</td>\n",
       "      <td>1</td>\n",
       "      <td>1408</td>\n",
       "      <td>853</td>\n",
       "      <td>2256</td>\n",
       "    </tr>\n",
       "    <tr>\n",
       "      <th>2</th>\n",
       "      <td>Cat</td>\n",
       "      <td>0</td>\n",
       "      <td>1035</td>\n",
       "      <td>512</td>\n",
       "      <td>1730</td>\n",
       "    </tr>\n",
       "    <tr>\n",
       "      <th>3</th>\n",
       "      <td>Cat</td>\n",
       "      <td>1</td>\n",
       "      <td>998</td>\n",
       "      <td>512</td>\n",
       "      <td>1724</td>\n",
       "    </tr>\n",
       "    <tr>\n",
       "      <th>4</th>\n",
       "      <td>Dog</td>\n",
       "      <td>0</td>\n",
       "      <td>1084</td>\n",
       "      <td>574</td>\n",
       "      <td>1795</td>\n",
       "    </tr>\n",
       "    <tr>\n",
       "      <th>5</th>\n",
       "      <td>Dog</td>\n",
       "      <td>1</td>\n",
       "      <td>1038</td>\n",
       "      <td>574</td>\n",
       "      <td>1797</td>\n",
       "    </tr>\n",
       "    <tr>\n",
       "      <th>6</th>\n",
       "      <td>Fish</td>\n",
       "      <td>0</td>\n",
       "      <td>705</td>\n",
       "      <td>288</td>\n",
       "      <td>1307</td>\n",
       "    </tr>\n",
       "    <tr>\n",
       "      <th>7</th>\n",
       "      <td>Fish</td>\n",
       "      <td>1</td>\n",
       "      <td>693</td>\n",
       "      <td>287</td>\n",
       "      <td>1301</td>\n",
       "    </tr>\n",
       "  </tbody>\n",
       "</table>\n",
       "</div>"
      ],
      "text/plain": [
       "  animal  repeat_purchase  avg_sales  min_sales  max_sales\n",
       "0   Bird                0       1380        858       2255\n",
       "1   Bird                1       1408        853       2256\n",
       "2    Cat                0       1035        512       1730\n",
       "3    Cat                1        998        512       1724\n",
       "4    Dog                0       1084        574       1795\n",
       "5    Dog                1       1038        574       1797\n",
       "6   Fish                0        705        288       1307\n",
       "7   Fish                1        693        287       1301"
      ]
     },
     "execution_count": 28,
     "metadata": {},
     "output_type": "execute_result"
    }
   ],
   "source": [
    "-- median CTE\n",
    "WITH median AS (\n",
    "\tSELECT ROUND(\n",
    "\t\t\t(\n",
    "\t\t\t\tPERCENTILE_CONT(0.5) WITHIN GROUP (ORDER BY price::NUMERIC)\n",
    "\t\t\t)::NUMERIC,\n",
    "\t\t2\n",
    "\t)\n",
    "\tFROM pet_supplies\n",
    "\tWHERE price SIMILAR TO '[0-9]*\\.?[0-9]*'\n",
    "), clean_pet_supplies AS (\n",
    "\tSELECT product_id,\n",
    "\t\tCASE\n",
    "\t\t\tWHEN category IN ('Housing', 'Food', 'Toys', 'Equipment', 'Medicine', 'Accessory')\n",
    "\t\t\t\tTHEN category\n",
    "\t\t\tELSE 'Unknown'\n",
    "\t\tEND AS category,\n",
    "\t\tanimal,\n",
    "\t\tCASE\n",
    "\t\t\tWHEN INITCAP(size) IN ('Small', 'Medium', 'Large') THEN INITCAP(size)\n",
    "\t\t\tELSE 'Unknown'\n",
    "\t\tEND AS size,\n",
    "\t\tCASE\n",
    "\t\t\tWHEN price SIMILAR TO '[0-9]*\\.?[0-9]*' THEN ROUND(price::NUMERIC, 2)\n",
    "\t\t\tELSE (SELECT * FROM median)\n",
    "\t\tEND AS price,\n",
    "\t\tROUND(sales::NUMERIC, 2) AS sales,\n",
    "\t\tCASE\n",
    "\t\t\tWHEN rating IS NULL THEN 0\n",
    "\t\t\tELSE rating\n",
    "\t\tEND AS rating,\n",
    "\t\trepeat_purchase\n",
    "\tFROM pet_supplies\n",
    ")\n",
    "\n",
    "-- Are Sales Higher for Repeat Purchases for Different Animals?\n",
    "SELECT animal, repeat_purchase,\n",
    "\tROUND(AVG(sales)) AS avg_sales,\n",
    "\tROUND(MIN(sales)) AS min_sales, ROUND(max(sales)) AS max_sales\n",
    "FROM clean_pet_supplies\n",
    "GROUP BY repeat_purchase, animal\n",
    "ORDER BY animal, repeat_purchase;"
   ]
  },
  {
   "cell_type": "markdown",
   "id": "e4c85002-8861-4186-880f-0c9025bfc8f4",
   "metadata": {},
   "source": [
    "## Which cat and dog products that are bought repeatedly are most popular?"
   ]
  },
  {
   "cell_type": "markdown",
   "id": "b0167d81-cb44-4201-8880-9bc99da03d13",
   "metadata": {},
   "source": [
    "Next year, the management team wants to focus efforts on the most popular pets (cats and dogs) for products that are bought repeatedly. To help with this, we define popular based on `sales` and `ranking`.\n",
    "\n",
    "Let's write a query that returns the `product_id`, `sales` and `rating` for repeated products for cats and dogs."
   ]
  },
  {
   "cell_type": "code",
   "execution_count": 30,
   "id": "d0b07592-304d-4430-919a-26135cf2b067",
   "metadata": {
    "customType": "sql",
    "dataFrameVariableName": "df28",
    "executionCancelledAt": null,
    "executionTime": 971,
    "lastExecutedAt": 1730859286189,
    "lastExecutedByKernel": "9e850136-3a57-4cf5-be7f-7b0325ba635f",
    "lastScheduledRunId": null,
    "lastSuccessfullyExecutedCode": "-- median CTE\nWITH median AS (\n\tSELECT ROUND(\n\t\t\t(\n\t\t\t\tPERCENTILE_CONT(0.5) WITHIN GROUP (ORDER BY price::NUMERIC)\n\t\t\t)::NUMERIC,\n\t\t2\n\t)\n\tFROM pet_supplies\n\tWHERE price SIMILAR TO '[0-9]*\\.?[0-9]*'\n), clean_pet_supplies AS (\n\tSELECT product_id,\n\t\tCASE\n\t\t\tWHEN category IN ('Housing', 'Food', 'Toys', 'Equipment', 'Medicine', 'Accessory')\n\t\t\t\tTHEN category\n\t\t\tELSE 'Unknown'\n\t\tEND AS category,\n\t\tanimal,\n\t\tCASE\n\t\t\tWHEN INITCAP(size) IN ('Small', 'Medium', 'Large') THEN INITCAP(size)\n\t\t\tELSE 'Unknown'\n\t\tEND AS size,\n\t\tCASE\n\t\t\tWHEN price SIMILAR TO '[0-9]*\\.?[0-9]*' THEN ROUND(price::NUMERIC, 2)\n\t\t\tELSE (SELECT * FROM median)\n\t\tEND AS price,\n\t\tROUND(sales::NUMERIC, 2) AS sales,\n\t\tCASE\n\t\t\tWHEN rating IS NULL THEN 0\n\t\t\tELSE rating\n\t\tEND AS rating,\n\t\trepeat_purchase\n\tFROM pet_supplies\n)\n\n-- Which cat and dog products that are bought repeatedly are most popular?\nSELECT animal, product_id, sales, rating\nFROM clean_pet_supplies\nWHERE animal in ('Cat', 'Dog') AND repeat_purchase = 1\nORDER BY sales DESC, rating DESC\nLIMIT 10;",
    "sqlCellMode": "dataFrame",
    "sqlSource": {
     "integrationId": "af2d5208-8759-4760-8fc5-287cfbb3507b",
     "integrationType": "postgresql",
     "type": "integration"
    }
   },
   "outputs": [
    {
     "@datacamp/metadata": {
      "executedQuery": "-- median CTE\nWITH median AS (\n\tSELECT ROUND(\n\t\t\t(\n\t\t\t\tPERCENTILE_CONT(0.5) WITHIN GROUP (ORDER BY price::NUMERIC)\n\t\t\t)::NUMERIC,\n\t\t2\n\t)\n\tFROM pet_supplies\n\tWHERE price SIMILAR TO '[0-9]*\\.\\?[0-9]*'\n), clean_pet_supplies AS (\n\tSELECT product_id,\n\t\tCASE\n\t\t\tWHEN category IN ('Housing', 'Food', 'Toys', 'Equipment', 'Medicine', 'Accessory')\n\t\t\t\tTHEN category\n\t\t\tELSE 'Unknown'\n\t\tEND AS category,\n\t\tanimal,\n\t\tCASE\n\t\t\tWHEN INITCAP(size) IN ('Small', 'Medium', 'Large') THEN INITCAP(size)\n\t\t\tELSE 'Unknown'\n\t\tEND AS size,\n\t\tCASE\n\t\t\tWHEN price SIMILAR TO '[0-9]*\\.\\?[0-9]*' THEN ROUND(price::NUMERIC, 2)\n\t\t\tELSE (SELECT * FROM median)\n\t\tEND AS price,\n\t\tROUND(sales::NUMERIC, 2) AS sales,\n\t\tCASE\n\t\t\tWHEN rating IS NULL THEN 0\n\t\t\tELSE rating\n\t\tEND AS rating,\n\t\trepeat_purchase\n\tFROM pet_supplies\n)\n\n-- Which cat and dog products that are bought repeatedly are most popular\\?\nSELECT animal, product_id, sales, rating\nFROM clean_pet_supplies\nWHERE animal in ('Cat', 'Dog') AND repeat_purchase = 1\nORDER BY sales DESC, rating DESC\nLIMIT 10;",
      "executedQueryParameters": []
     },
     "data": {
      "application/com.datacamp.data-table.v2+json": {
       "table": {
        "data": {
         "animal": [
          "Dog",
          "Dog",
          "Dog",
          "Dog",
          "Dog",
          "Cat",
          "Cat",
          "Dog",
          "Dog",
          "Dog"
         ],
         "index": [
          0,
          1,
          2,
          3,
          4,
          5,
          6,
          7,
          8,
          9
         ],
         "product_id": [
          518,
          280,
          728,
          20,
          946,
          863,
          1383,
          272,
          561,
          285
         ],
         "rating": [
          7,
          5,
          6,
          7,
          8,
          7,
          8,
          6,
          5,
          4
         ],
         "sales": [
          1797.02,
          1795.77,
          1793.71,
          1792.63,
          1788.28,
          1724.15,
          1723.87,
          1470.65,
          1469.55,
          1467.21
         ]
        },
        "schema": {
         "fields": [
          {
           "name": "index",
           "type": "integer"
          },
          {
           "name": "animal",
           "type": "string"
          },
          {
           "name": "product_id",
           "type": "integer"
          },
          {
           "name": "sales",
           "type": "number"
          },
          {
           "name": "rating",
           "type": "integer"
          }
         ],
         "pandas_version": "1.4.0",
         "primaryKey": [
          "index"
         ]
        }
       },
       "total_rows": 10,
       "truncation_type": null
      },
      "text/html": [
       "<div>\n",
       "<style scoped>\n",
       "    .dataframe tbody tr th:only-of-type {\n",
       "        vertical-align: middle;\n",
       "    }\n",
       "\n",
       "    .dataframe tbody tr th {\n",
       "        vertical-align: top;\n",
       "    }\n",
       "\n",
       "    .dataframe thead th {\n",
       "        text-align: right;\n",
       "    }\n",
       "</style>\n",
       "<table border=\"1\" class=\"dataframe\">\n",
       "  <thead>\n",
       "    <tr style=\"text-align: right;\">\n",
       "      <th></th>\n",
       "      <th>animal</th>\n",
       "      <th>product_id</th>\n",
       "      <th>sales</th>\n",
       "      <th>rating</th>\n",
       "    </tr>\n",
       "  </thead>\n",
       "  <tbody>\n",
       "    <tr>\n",
       "      <th>0</th>\n",
       "      <td>Dog</td>\n",
       "      <td>518</td>\n",
       "      <td>1797.02</td>\n",
       "      <td>7</td>\n",
       "    </tr>\n",
       "    <tr>\n",
       "      <th>1</th>\n",
       "      <td>Dog</td>\n",
       "      <td>280</td>\n",
       "      <td>1795.77</td>\n",
       "      <td>5</td>\n",
       "    </tr>\n",
       "    <tr>\n",
       "      <th>2</th>\n",
       "      <td>Dog</td>\n",
       "      <td>728</td>\n",
       "      <td>1793.71</td>\n",
       "      <td>6</td>\n",
       "    </tr>\n",
       "    <tr>\n",
       "      <th>3</th>\n",
       "      <td>Dog</td>\n",
       "      <td>20</td>\n",
       "      <td>1792.63</td>\n",
       "      <td>7</td>\n",
       "    </tr>\n",
       "    <tr>\n",
       "      <th>4</th>\n",
       "      <td>Dog</td>\n",
       "      <td>946</td>\n",
       "      <td>1788.28</td>\n",
       "      <td>8</td>\n",
       "    </tr>\n",
       "    <tr>\n",
       "      <th>5</th>\n",
       "      <td>Cat</td>\n",
       "      <td>863</td>\n",
       "      <td>1724.15</td>\n",
       "      <td>7</td>\n",
       "    </tr>\n",
       "    <tr>\n",
       "      <th>6</th>\n",
       "      <td>Cat</td>\n",
       "      <td>1383</td>\n",
       "      <td>1723.87</td>\n",
       "      <td>8</td>\n",
       "    </tr>\n",
       "    <tr>\n",
       "      <th>7</th>\n",
       "      <td>Dog</td>\n",
       "      <td>272</td>\n",
       "      <td>1470.65</td>\n",
       "      <td>6</td>\n",
       "    </tr>\n",
       "    <tr>\n",
       "      <th>8</th>\n",
       "      <td>Dog</td>\n",
       "      <td>561</td>\n",
       "      <td>1469.55</td>\n",
       "      <td>5</td>\n",
       "    </tr>\n",
       "    <tr>\n",
       "      <th>9</th>\n",
       "      <td>Dog</td>\n",
       "      <td>285</td>\n",
       "      <td>1467.21</td>\n",
       "      <td>4</td>\n",
       "    </tr>\n",
       "  </tbody>\n",
       "</table>\n",
       "</div>"
      ],
      "text/plain": [
       "  animal  product_id    sales  rating\n",
       "0    Dog         518  1797.02       7\n",
       "1    Dog         280  1795.77       5\n",
       "2    Dog         728  1793.71       6\n",
       "3    Dog          20  1792.63       7\n",
       "4    Dog         946  1788.28       8\n",
       "5    Cat         863  1724.15       7\n",
       "6    Cat        1383  1723.87       8\n",
       "7    Dog         272  1470.65       6\n",
       "8    Dog         561  1469.55       5\n",
       "9    Dog         285  1467.21       4"
      ]
     },
     "execution_count": 30,
     "metadata": {},
     "output_type": "execute_result"
    }
   ],
   "source": [
    "-- median CTE\n",
    "WITH median AS (\n",
    "\tSELECT ROUND(\n",
    "\t\t\t(\n",
    "\t\t\t\tPERCENTILE_CONT(0.5) WITHIN GROUP (ORDER BY price::NUMERIC)\n",
    "\t\t\t)::NUMERIC,\n",
    "\t\t2\n",
    "\t)\n",
    "\tFROM pet_supplies\n",
    "\tWHERE price SIMILAR TO '[0-9]*\\.?[0-9]*'\n",
    "), clean_pet_supplies AS (\n",
    "\tSELECT product_id,\n",
    "\t\tCASE\n",
    "\t\t\tWHEN category IN ('Housing', 'Food', 'Toys', 'Equipment', 'Medicine', 'Accessory')\n",
    "\t\t\t\tTHEN category\n",
    "\t\t\tELSE 'Unknown'\n",
    "\t\tEND AS category,\n",
    "\t\tanimal,\n",
    "\t\tCASE\n",
    "\t\t\tWHEN INITCAP(size) IN ('Small', 'Medium', 'Large') THEN INITCAP(size)\n",
    "\t\t\tELSE 'Unknown'\n",
    "\t\tEND AS size,\n",
    "\t\tCASE\n",
    "\t\t\tWHEN price SIMILAR TO '[0-9]*\\.?[0-9]*' THEN ROUND(price::NUMERIC, 2)\n",
    "\t\t\tELSE (SELECT * FROM median)\n",
    "\t\tEND AS price,\n",
    "\t\tROUND(sales::NUMERIC, 2) AS sales,\n",
    "\t\tCASE\n",
    "\t\t\tWHEN rating IS NULL THEN 0\n",
    "\t\t\tELSE rating\n",
    "\t\tEND AS rating,\n",
    "\t\trepeat_purchase\n",
    "\tFROM pet_supplies\n",
    ")\n",
    "\n",
    "-- Which cat and dog products that are bought repeatedly are most popular?\n",
    "SELECT animal, product_id, sales, rating\n",
    "FROM clean_pet_supplies\n",
    "WHERE animal in ('Cat', 'Dog') AND repeat_purchase = 1\n",
    "ORDER BY sales DESC, rating DESC\n",
    "LIMIT 10;"
   ]
  },
  {
   "cell_type": "markdown",
   "id": "5ecce0a4-806d-481a-9af2-5acdeb550d94",
   "metadata": {},
   "source": [
    "It seems that more dog products are popular, and that the most popular products have a rating of at least 4."
   ]
  }
 ],
 "metadata": {
  "editor": "DataCamp Workspace",
  "kernelspec": {
   "display_name": "Python 3 (ipykernel)",
   "language": "python",
   "name": "python3"
  },
  "language_info": {
   "codemirror_mode": {
    "name": "ipython",
    "version": 3
   },
   "file_extension": ".py",
   "mimetype": "text/x-python",
   "name": "python",
   "nbconvert_exporter": "python",
   "pygments_lexer": "ipython3",
   "version": "3.12.4"
  }
 },
 "nbformat": 4,
 "nbformat_minor": 5
}
